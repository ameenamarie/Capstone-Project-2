{
 "cells": [
  {
   "cell_type": "code",
   "execution_count": 1,
   "metadata": {},
   "outputs": [
    {
     "name": "stdout",
     "output_type": "stream",
     "text": [
      "Populating the interactive namespace from numpy and matplotlib\n"
     ]
    },
    {
     "name": "stderr",
     "output_type": "stream",
     "text": [
      "/Users/ameenakhan/anaconda/lib/python3.6/site-packages/sklearn/cross_validation.py:44: DeprecationWarning: This module was deprecated in version 0.18 in favor of the model_selection module into which all the refactored classes and functions are moved. Also note that the interface of the new CV iterators are different from that of this module. This module will be removed in 0.20.\n",
      "  \"This module will be removed in 0.20.\", DeprecationWarning)\n",
      "/Users/ameenakhan/anaconda/lib/python3.6/site-packages/sklearn/grid_search.py:43: DeprecationWarning: This module was deprecated in version 0.18 in favor of the model_selection module into which all the refactored classes and functions are moved. This module will be removed in 0.20.\n",
      "  DeprecationWarning)\n"
     ]
    }
   ],
   "source": [
    "# Import packages\n",
    "%matplotlib inline\n",
    "%pylab inline\n",
    "\n",
    "from matplotlib import pyplot as plt\n",
    "import numpy as np\n",
    "import pandas as pd\n",
    "from sklearn.model_selection import train_test_split\n",
    "from sklearn.ensemble import RandomForestClassifier\n",
    "from sklearn.neighbors import KNeighborsClassifier\n",
    "from sklearn.metrics import accuracy_score, classification_report, confusion_matrix, make_scorer, precision_score\n",
    "from sklearn.metrics import recall_score, roc_auc_score\n",
    "from sklearn.cross_validation import ShuffleSplit\n",
    "from sklearn.grid_search import GridSearchCV\n",
    "from sklearn_evaluation import plot"
   ]
  },
  {
   "cell_type": "code",
   "execution_count": 2,
   "metadata": {
    "collapsed": true
   },
   "outputs": [],
   "source": [
    "# Import dataset\n",
    "df = pd.read_csv('LoanStats3a.csv', header = 1, dtype={'next_pymnt_d': object, 'id': object})"
   ]
  },
  {
   "cell_type": "markdown",
   "metadata": {},
   "source": [
    "# Data Wrangling"
   ]
  },
  {
   "cell_type": "code",
   "execution_count": 3,
   "metadata": {
    "collapsed": true
   },
   "outputs": [],
   "source": [
    "# Drop all empty columns and rows\n",
    "df = df.dropna(axis = 1, how = 'all')\n",
    "df = df.dropna(axis = 0, how = 'all')\n",
    "\n",
    "# Drop all columns with only 158 non-null values\n",
    "df = df.iloc[:, 1:58]\n",
    "\n",
    "# Drop additional columns not of interest\n",
    "df = df.iloc[:, 1:23]\n",
    "df = df.drop('desc', 1) # text description of loan, not doing text analysis on this project\n",
    "df = df.drop('zip_code', 1) # zip codes all end in xx\n",
    "df = df.drop('delinq_2yrs', 1) # this relates to loan activity after it has been approved\n",
    "df = df.drop('pymnt_plan', 1) # refers to individual who go onto payment plan after they received the loan\n",
    "df = df.drop('title', 1) # redundant of purpose column \n",
    "\n",
    "# Identify the empty rows\n",
    "nans = lambda df: df[df.isnull().all(axis=1)]\n",
    "n = nans(df)\n",
    "\n",
    "# Drop empty rows \n",
    "df = df.drop(list(n.index.values))"
   ]
  },
  {
   "cell_type": "code",
   "execution_count": 4,
   "metadata": {
    "collapsed": true
   },
   "outputs": [],
   "source": [
    "# Replace NaN in Employment Title with 'Unknown'\n",
    "df['emp_title'] = df['emp_title'].fillna('Unknown')\n",
    "\n",
    "# Replace values of < 20 with 'Other'\n",
    "df = df.assign(emp_title=df.groupby('emp_title')['emp_title'].transform(lambda x: x if x.size>=25 else 'Other'))\n",
    "\n",
    "# Calculate the mean of annual_inc\n",
    "inc_mean = df['annual_inc'].mean()\n",
    "\n",
    "# Replace all the missing values in annual_inc with the mean annual income\n",
    "df['annual_inc'] = df['annual_inc'].fillna(inc_mean)\n",
    "\n",
    "# Split issue_d into separate columns with the year and month in each column\n",
    "df[['issue_year','issue_month']] = df['issue_d'].str.split('-',expand=True)\n",
    "\n",
    "# replace the incorrect years with the correct year format \n",
    "df['issue_year'] = df['issue_year'].replace({'7': '07',\n",
    "                                               '8':'08',\n",
    "                                            '9':'09'})\n",
    "\n",
    "# remove % from int_rate and convert to float \n",
    "df.int_rate = df.int_rate.replace({'\\%':''}, regex = True)\n",
    "df.int_rate = pd.to_numeric(df.int_rate)"
   ]
  },
  {
   "cell_type": "code",
   "execution_count": 5,
   "metadata": {
    "collapsed": true
   },
   "outputs": [],
   "source": [
    "# consolidate loan status into two catagories\n",
    "df['loan_status'] = df['loan_status'].replace({'Does not meet the credit policy. Status:Fully Paid':'Fully Paid',\n",
    "                                               'Does not meet the credit policy. Status:Charged Off':'Charged Off'})\n",
    "\n",
    "# convert fully paid to 0 and charged off to 1\n",
    "df['loan_status'] = df['loan_status'].replace({'Fully Paid':0,\n",
    "                                               'Charged Off':1})"
   ]
  },
  {
   "cell_type": "code",
   "execution_count": 6,
   "metadata": {},
   "outputs": [
    {
     "data": {
      "text/html": [
       "<div>\n",
       "<style scoped>\n",
       "    .dataframe tbody tr th:only-of-type {\n",
       "        vertical-align: middle;\n",
       "    }\n",
       "\n",
       "    .dataframe tbody tr th {\n",
       "        vertical-align: top;\n",
       "    }\n",
       "\n",
       "    .dataframe thead th {\n",
       "        text-align: right;\n",
       "    }\n",
       "</style>\n",
       "<table border=\"1\" class=\"dataframe\">\n",
       "  <thead>\n",
       "    <tr style=\"text-align: right;\">\n",
       "      <th></th>\n",
       "      <th>funded_amnt</th>\n",
       "      <th>funded_amnt_inv</th>\n",
       "      <th>term</th>\n",
       "      <th>int_rate</th>\n",
       "      <th>installment</th>\n",
       "      <th>grade</th>\n",
       "      <th>sub_grade</th>\n",
       "      <th>emp_title</th>\n",
       "      <th>emp_length</th>\n",
       "      <th>home_ownership</th>\n",
       "      <th>annual_inc</th>\n",
       "      <th>verification_status</th>\n",
       "      <th>issue_d</th>\n",
       "      <th>loan_status</th>\n",
       "      <th>purpose</th>\n",
       "      <th>addr_state</th>\n",
       "      <th>dti</th>\n",
       "      <th>issue_year</th>\n",
       "      <th>issue_month</th>\n",
       "    </tr>\n",
       "  </thead>\n",
       "  <tbody>\n",
       "    <tr>\n",
       "      <th>0</th>\n",
       "      <td>5000.0</td>\n",
       "      <td>4975.0</td>\n",
       "      <td>36 months</td>\n",
       "      <td>10.65</td>\n",
       "      <td>162.87</td>\n",
       "      <td>B</td>\n",
       "      <td>B2</td>\n",
       "      <td>Unknown</td>\n",
       "      <td>10+ years</td>\n",
       "      <td>RENT</td>\n",
       "      <td>24000.0</td>\n",
       "      <td>Verified</td>\n",
       "      <td>11-Dec</td>\n",
       "      <td>0</td>\n",
       "      <td>credit_card</td>\n",
       "      <td>AZ</td>\n",
       "      <td>27.65</td>\n",
       "      <td>11</td>\n",
       "      <td>Dec</td>\n",
       "    </tr>\n",
       "    <tr>\n",
       "      <th>1</th>\n",
       "      <td>2500.0</td>\n",
       "      <td>2500.0</td>\n",
       "      <td>60 months</td>\n",
       "      <td>15.27</td>\n",
       "      <td>59.83</td>\n",
       "      <td>C</td>\n",
       "      <td>C4</td>\n",
       "      <td>Other</td>\n",
       "      <td>&lt; 1 year</td>\n",
       "      <td>RENT</td>\n",
       "      <td>30000.0</td>\n",
       "      <td>Source Verified</td>\n",
       "      <td>11-Dec</td>\n",
       "      <td>1</td>\n",
       "      <td>car</td>\n",
       "      <td>GA</td>\n",
       "      <td>1.00</td>\n",
       "      <td>11</td>\n",
       "      <td>Dec</td>\n",
       "    </tr>\n",
       "    <tr>\n",
       "      <th>2</th>\n",
       "      <td>2400.0</td>\n",
       "      <td>2400.0</td>\n",
       "      <td>36 months</td>\n",
       "      <td>15.96</td>\n",
       "      <td>84.33</td>\n",
       "      <td>C</td>\n",
       "      <td>C5</td>\n",
       "      <td>Unknown</td>\n",
       "      <td>10+ years</td>\n",
       "      <td>RENT</td>\n",
       "      <td>12252.0</td>\n",
       "      <td>Not Verified</td>\n",
       "      <td>11-Dec</td>\n",
       "      <td>0</td>\n",
       "      <td>small_business</td>\n",
       "      <td>IL</td>\n",
       "      <td>8.72</td>\n",
       "      <td>11</td>\n",
       "      <td>Dec</td>\n",
       "    </tr>\n",
       "    <tr>\n",
       "      <th>3</th>\n",
       "      <td>10000.0</td>\n",
       "      <td>10000.0</td>\n",
       "      <td>36 months</td>\n",
       "      <td>13.49</td>\n",
       "      <td>339.31</td>\n",
       "      <td>C</td>\n",
       "      <td>C1</td>\n",
       "      <td>Other</td>\n",
       "      <td>10+ years</td>\n",
       "      <td>RENT</td>\n",
       "      <td>49200.0</td>\n",
       "      <td>Source Verified</td>\n",
       "      <td>11-Dec</td>\n",
       "      <td>0</td>\n",
       "      <td>other</td>\n",
       "      <td>CA</td>\n",
       "      <td>20.00</td>\n",
       "      <td>11</td>\n",
       "      <td>Dec</td>\n",
       "    </tr>\n",
       "    <tr>\n",
       "      <th>4</th>\n",
       "      <td>3000.0</td>\n",
       "      <td>3000.0</td>\n",
       "      <td>60 months</td>\n",
       "      <td>12.69</td>\n",
       "      <td>67.79</td>\n",
       "      <td>B</td>\n",
       "      <td>B5</td>\n",
       "      <td>Other</td>\n",
       "      <td>1 year</td>\n",
       "      <td>RENT</td>\n",
       "      <td>80000.0</td>\n",
       "      <td>Source Verified</td>\n",
       "      <td>11-Dec</td>\n",
       "      <td>0</td>\n",
       "      <td>other</td>\n",
       "      <td>OR</td>\n",
       "      <td>17.94</td>\n",
       "      <td>11</td>\n",
       "      <td>Dec</td>\n",
       "    </tr>\n",
       "  </tbody>\n",
       "</table>\n",
       "</div>"
      ],
      "text/plain": [
       "   funded_amnt  funded_amnt_inv        term  int_rate  installment grade  \\\n",
       "0       5000.0           4975.0   36 months     10.65       162.87     B   \n",
       "1       2500.0           2500.0   60 months     15.27        59.83     C   \n",
       "2       2400.0           2400.0   36 months     15.96        84.33     C   \n",
       "3      10000.0          10000.0   36 months     13.49       339.31     C   \n",
       "4       3000.0           3000.0   60 months     12.69        67.79     B   \n",
       "\n",
       "  sub_grade emp_title emp_length home_ownership  annual_inc  \\\n",
       "0        B2   Unknown  10+ years           RENT     24000.0   \n",
       "1        C4     Other   < 1 year           RENT     30000.0   \n",
       "2        C5   Unknown  10+ years           RENT     12252.0   \n",
       "3        C1     Other  10+ years           RENT     49200.0   \n",
       "4        B5     Other     1 year           RENT     80000.0   \n",
       "\n",
       "  verification_status issue_d  loan_status         purpose addr_state    dti  \\\n",
       "0            Verified  11-Dec            0     credit_card         AZ  27.65   \n",
       "1     Source Verified  11-Dec            1             car         GA   1.00   \n",
       "2        Not Verified  11-Dec            0  small_business         IL   8.72   \n",
       "3     Source Verified  11-Dec            0           other         CA  20.00   \n",
       "4     Source Verified  11-Dec            0           other         OR  17.94   \n",
       "\n",
       "  issue_year issue_month  \n",
       "0         11         Dec  \n",
       "1         11         Dec  \n",
       "2         11         Dec  \n",
       "3         11         Dec  \n",
       "4         11         Dec  "
      ]
     },
     "execution_count": 6,
     "metadata": {},
     "output_type": "execute_result"
    }
   ],
   "source": [
    "df.head()"
   ]
  },
  {
   "cell_type": "markdown",
   "metadata": {},
   "source": [
    "# Exploratory Data Analysis"
   ]
  },
  {
   "cell_type": "code",
   "execution_count": 7,
   "metadata": {},
   "outputs": [
    {
     "name": "stdout",
     "output_type": "stream",
     "text": [
      "Number of Loans that are Fully Paid (0) or Charged Off (1):\n",
      "0    36104\n",
      "1     6431\n",
      "Name: loan_status, dtype: int64\n",
      "Percentage of loans that are in default (1): 15.12 %\n"
     ]
    }
   ],
   "source": [
    "print('Number of Loans that are Fully Paid (0) or Charged Off (1):')\n",
    "print(df.loan_status.value_counts())\n",
    "\n",
    "print('Percentage of loans that are in default (1):', round(6431/(36104+6431)*100,2),'%')"
   ]
  },
  {
   "cell_type": "code",
   "execution_count": 8,
   "metadata": {},
   "outputs": [
    {
     "data": {
      "image/png": "[encoded data removed]",
      "text/plain": [
       "<matplotlib.figure.Figure at 0x1200f4ef0>"
      ]
     },
     "metadata": {},
     "output_type": "display_data"
    }
   ],
   "source": [
    "# Create a graph of the number of loans in either good standing or in default\n",
    "df.loan_status.value_counts().plot(kind = 'bar')\n",
    "plt.title('Current Number of Loans That Are in Good Standing (0) or Charged Off (1)', fontsize=20)\n",
    "plt.xlabel('Loan Status', fontsize=15)\n",
    "plt.ylabel('Number of Loans', fontsize=15)\n",
    "plt.xticks(rotation='horizontal')\n",
    "fig_size = plt.rcParams[\"figure.figsize\"]\n",
    "fig_size[0] = 12\n",
    "fig_size[1] = 8\n",
    "plt.show()"
   ]
  },
  {
   "cell_type": "markdown",
   "metadata": {},
   "source": [
    "# Machine Learning"
   ]
  },
  {
   "cell_type": "code",
   "execution_count": 9,
   "metadata": {
    "collapsed": true
   },
   "outputs": [],
   "source": [
    "# drop feature columns that should be excluded from the model \n",
    "drop = [\n",
    "#    'funded_amnt', \n",
    "#    'funded_amnt_inv', \n",
    "#    'term', \n",
    "#    'int_rate', \n",
    "#    'installment', \n",
    "    'grade', \n",
    "    'sub_grade', \n",
    "    'emp_title', \n",
    "    'issue_d',\n",
    "#    'emp_length', \n",
    "#    'home_ownership', \n",
    "#    'annual_inc', \n",
    "#    'verification_status', \n",
    "    'loan_status', \n",
    "    'purpose', \n",
    "    'addr_state', \n",
    "#    'dti', \n",
    "    'issue_year', \n",
    "#    'issue_month'\n",
    "]\n",
    "\n",
    "# categorical features used in the model, to be converted later\n",
    "dummies = [\n",
    "    'term',\n",
    "#    'grade', \n",
    "#    'sub_grade', \n",
    "#    'emp_title', \n",
    "    'emp_length', \n",
    "    'home_ownership',\n",
    "    'verification_status', \n",
    "#    'purpose', \n",
    "#    'addr_state',\n",
    "#    'issue_year', \n",
    "    'issue_month'\n",
    "]"
   ]
  },
  {
   "cell_type": "code",
   "execution_count": 10,
   "metadata": {
    "collapsed": true
   },
   "outputs": [],
   "source": [
    "# store the labels for prediction\n",
    "y = df['loan_status'].values"
   ]
  },
  {
   "cell_type": "code",
   "execution_count": 11,
   "metadata": {},
   "outputs": [
    {
     "name": "stdout",
     "output_type": "stream",
     "text": [
      "Applications:    42535\n",
      "Dimensions:      19\n"
     ]
    }
   ],
   "source": [
    "print('Applications:   ', df.shape[0])\n",
    "print('Dimensions:     ', df.shape[1])"
   ]
  },
  {
   "cell_type": "code",
   "execution_count": 12,
   "metadata": {},
   "outputs": [
    {
     "name": "stdout",
     "output_type": "stream",
     "text": [
      "Applicants who defaulted:   6431 (15.1%)\n"
     ]
    }
   ],
   "source": [
    "print('Applicants who defaulted:   ', df['loan_status'].sum(),\\\n",
    "      ' (', round(df['loan_status'].mean()*100,1),'%)', sep='')"
   ]
  },
  {
   "cell_type": "code",
   "execution_count": 13,
   "metadata": {},
   "outputs": [
    {
     "name": "stdout",
     "output_type": "stream",
     "text": [
      "<class 'pandas.core.frame.DataFrame'>\n",
      "Int64Index: 42535 entries, 0 to 42537\n",
      "Data columns (total 11 columns):\n",
      "funded_amnt            42535 non-null float64\n",
      "funded_amnt_inv        42535 non-null float64\n",
      "term                   42535 non-null object\n",
      "int_rate               42535 non-null float64\n",
      "installment            42535 non-null float64\n",
      "emp_length             41423 non-null object\n",
      "home_ownership         42535 non-null object\n",
      "annual_inc             42535 non-null float64\n",
      "verification_status    42535 non-null object\n",
      "dti                    42535 non-null float64\n",
      "issue_month            42535 non-null object\n",
      "dtypes: float64(6), object(5)\n",
      "memory usage: 3.9+ MB\n"
     ]
    }
   ],
   "source": [
    "# drop features that will not be used in the model \n",
    "df_prep = df.drop(columns=drop)\n",
    "df_prep.info()"
   ]
  },
  {
   "cell_type": "code",
   "execution_count": 14,
   "metadata": {},
   "outputs": [
    {
     "data": {
      "text/html": [
       "<div>\n",
       "<style scoped>\n",
       "    .dataframe tbody tr th:only-of-type {\n",
       "        vertical-align: middle;\n",
       "    }\n",
       "\n",
       "    .dataframe tbody tr th {\n",
       "        vertical-align: top;\n",
       "    }\n",
       "\n",
       "    .dataframe thead th {\n",
       "        text-align: right;\n",
       "    }\n",
       "</style>\n",
       "<table border=\"1\" class=\"dataframe\">\n",
       "  <thead>\n",
       "    <tr style=\"text-align: right;\">\n",
       "      <th></th>\n",
       "      <th>funded_amnt</th>\n",
       "      <th>funded_amnt_inv</th>\n",
       "      <th>int_rate</th>\n",
       "      <th>installment</th>\n",
       "      <th>annual_inc</th>\n",
       "      <th>dti</th>\n",
       "      <th>term_ 36 months</th>\n",
       "      <th>term_ 60 months</th>\n",
       "      <th>emp_length_1 year</th>\n",
       "      <th>emp_length_10+ years</th>\n",
       "      <th>...</th>\n",
       "      <th>issue_month_Dec</th>\n",
       "      <th>issue_month_Feb</th>\n",
       "      <th>issue_month_Jan</th>\n",
       "      <th>issue_month_Jul</th>\n",
       "      <th>issue_month_Jun</th>\n",
       "      <th>issue_month_Mar</th>\n",
       "      <th>issue_month_May</th>\n",
       "      <th>issue_month_Nov</th>\n",
       "      <th>issue_month_Oct</th>\n",
       "      <th>issue_month_Sep</th>\n",
       "    </tr>\n",
       "  </thead>\n",
       "  <tbody>\n",
       "    <tr>\n",
       "      <th>count</th>\n",
       "      <td>42535.000000</td>\n",
       "      <td>42535.000000</td>\n",
       "      <td>42535.000000</td>\n",
       "      <td>42535.000000</td>\n",
       "      <td>4.253500e+04</td>\n",
       "      <td>42535.000000</td>\n",
       "      <td>42535.000000</td>\n",
       "      <td>42535.000000</td>\n",
       "      <td>42535.000000</td>\n",
       "      <td>42535.000000</td>\n",
       "      <td>...</td>\n",
       "      <td>42535.000000</td>\n",
       "      <td>42535.000000</td>\n",
       "      <td>42535.000000</td>\n",
       "      <td>42535.000000</td>\n",
       "      <td>42535.000000</td>\n",
       "      <td>42535.000000</td>\n",
       "      <td>42535.000000</td>\n",
       "      <td>42535.000000</td>\n",
       "      <td>42535.000000</td>\n",
       "      <td>42535.000000</td>\n",
       "    </tr>\n",
       "    <tr>\n",
       "      <th>mean</th>\n",
       "      <td>10821.585753</td>\n",
       "      <td>10139.830603</td>\n",
       "      <td>12.165016</td>\n",
       "      <td>322.623063</td>\n",
       "      <td>6.913656e+04</td>\n",
       "      <td>13.373043</td>\n",
       "      <td>0.741366</td>\n",
       "      <td>0.258634</td>\n",
       "      <td>0.084519</td>\n",
       "      <td>0.220266</td>\n",
       "      <td>...</td>\n",
       "      <td>0.110145</td>\n",
       "      <td>0.060844</td>\n",
       "      <td>0.061502</td>\n",
       "      <td>0.086846</td>\n",
       "      <td>0.082144</td>\n",
       "      <td>0.070577</td>\n",
       "      <td>0.074456</td>\n",
       "      <td>0.104361</td>\n",
       "      <td>0.098296</td>\n",
       "      <td>0.091054</td>\n",
       "    </tr>\n",
       "    <tr>\n",
       "      <th>std</th>\n",
       "      <td>7146.914675</td>\n",
       "      <td>7131.686447</td>\n",
       "      <td>3.707936</td>\n",
       "      <td>208.927216</td>\n",
       "      <td>6.409334e+04</td>\n",
       "      <td>6.726315</td>\n",
       "      <td>0.437889</td>\n",
       "      <td>0.437889</td>\n",
       "      <td>0.278167</td>\n",
       "      <td>0.414431</td>\n",
       "      <td>...</td>\n",
       "      <td>0.313074</td>\n",
       "      <td>0.239047</td>\n",
       "      <td>0.240252</td>\n",
       "      <td>0.281613</td>\n",
       "      <td>0.274587</td>\n",
       "      <td>0.256120</td>\n",
       "      <td>0.262515</td>\n",
       "      <td>0.305732</td>\n",
       "      <td>0.297717</td>\n",
       "      <td>0.287690</td>\n",
       "    </tr>\n",
       "    <tr>\n",
       "      <th>min</th>\n",
       "      <td>500.000000</td>\n",
       "      <td>0.000000</td>\n",
       "      <td>5.420000</td>\n",
       "      <td>15.670000</td>\n",
       "      <td>1.896000e+03</td>\n",
       "      <td>0.000000</td>\n",
       "      <td>0.000000</td>\n",
       "      <td>0.000000</td>\n",
       "      <td>0.000000</td>\n",
       "      <td>0.000000</td>\n",
       "      <td>...</td>\n",
       "      <td>0.000000</td>\n",
       "      <td>0.000000</td>\n",
       "      <td>0.000000</td>\n",
       "      <td>0.000000</td>\n",
       "      <td>0.000000</td>\n",
       "      <td>0.000000</td>\n",
       "      <td>0.000000</td>\n",
       "      <td>0.000000</td>\n",
       "      <td>0.000000</td>\n",
       "      <td>0.000000</td>\n",
       "    </tr>\n",
       "    <tr>\n",
       "      <th>25%</th>\n",
       "      <td>5000.000000</td>\n",
       "      <td>4950.000000</td>\n",
       "      <td>9.630000</td>\n",
       "      <td>165.520000</td>\n",
       "      <td>4.000000e+04</td>\n",
       "      <td>8.200000</td>\n",
       "      <td>0.000000</td>\n",
       "      <td>0.000000</td>\n",
       "      <td>0.000000</td>\n",
       "      <td>0.000000</td>\n",
       "      <td>...</td>\n",
       "      <td>0.000000</td>\n",
       "      <td>0.000000</td>\n",
       "      <td>0.000000</td>\n",
       "      <td>0.000000</td>\n",
       "      <td>0.000000</td>\n",
       "      <td>0.000000</td>\n",
       "      <td>0.000000</td>\n",
       "      <td>0.000000</td>\n",
       "      <td>0.000000</td>\n",
       "      <td>0.000000</td>\n",
       "    </tr>\n",
       "    <tr>\n",
       "      <th>50%</th>\n",
       "      <td>9600.000000</td>\n",
       "      <td>8500.000000</td>\n",
       "      <td>11.990000</td>\n",
       "      <td>277.690000</td>\n",
       "      <td>5.900000e+04</td>\n",
       "      <td>13.470000</td>\n",
       "      <td>1.000000</td>\n",
       "      <td>0.000000</td>\n",
       "      <td>0.000000</td>\n",
       "      <td>0.000000</td>\n",
       "      <td>...</td>\n",
       "      <td>0.000000</td>\n",
       "      <td>0.000000</td>\n",
       "      <td>0.000000</td>\n",
       "      <td>0.000000</td>\n",
       "      <td>0.000000</td>\n",
       "      <td>0.000000</td>\n",
       "      <td>0.000000</td>\n",
       "      <td>0.000000</td>\n",
       "      <td>0.000000</td>\n",
       "      <td>0.000000</td>\n",
       "    </tr>\n",
       "    <tr>\n",
       "      <th>75%</th>\n",
       "      <td>15000.000000</td>\n",
       "      <td>14000.000000</td>\n",
       "      <td>14.720000</td>\n",
       "      <td>428.180000</td>\n",
       "      <td>8.250000e+04</td>\n",
       "      <td>18.680000</td>\n",
       "      <td>1.000000</td>\n",
       "      <td>1.000000</td>\n",
       "      <td>0.000000</td>\n",
       "      <td>0.000000</td>\n",
       "      <td>...</td>\n",
       "      <td>0.000000</td>\n",
       "      <td>0.000000</td>\n",
       "      <td>0.000000</td>\n",
       "      <td>0.000000</td>\n",
       "      <td>0.000000</td>\n",
       "      <td>0.000000</td>\n",
       "      <td>0.000000</td>\n",
       "      <td>0.000000</td>\n",
       "      <td>0.000000</td>\n",
       "      <td>0.000000</td>\n",
       "    </tr>\n",
       "    <tr>\n",
       "      <th>max</th>\n",
       "      <td>35000.000000</td>\n",
       "      <td>35000.000000</td>\n",
       "      <td>24.590000</td>\n",
       "      <td>1305.190000</td>\n",
       "      <td>6.000000e+06</td>\n",
       "      <td>29.990000</td>\n",
       "      <td>1.000000</td>\n",
       "      <td>1.000000</td>\n",
       "      <td>1.000000</td>\n",
       "      <td>1.000000</td>\n",
       "      <td>...</td>\n",
       "      <td>1.000000</td>\n",
       "      <td>1.000000</td>\n",
       "      <td>1.000000</td>\n",
       "      <td>1.000000</td>\n",
       "      <td>1.000000</td>\n",
       "      <td>1.000000</td>\n",
       "      <td>1.000000</td>\n",
       "      <td>1.000000</td>\n",
       "      <td>1.000000</td>\n",
       "      <td>1.000000</td>\n",
       "    </tr>\n",
       "  </tbody>\n",
       "</table>\n",
       "<p>8 rows × 39 columns</p>\n",
       "</div>"
      ],
      "text/plain": [
       "        funded_amnt  funded_amnt_inv      int_rate   installment  \\\n",
       "count  42535.000000     42535.000000  42535.000000  42535.000000   \n",
       "mean   10821.585753     10139.830603     12.165016    322.623063   \n",
       "std     7146.914675      7131.686447      3.707936    208.927216   \n",
       "min      500.000000         0.000000      5.420000     15.670000   \n",
       "25%     5000.000000      4950.000000      9.630000    165.520000   \n",
       "50%     9600.000000      8500.000000     11.990000    277.690000   \n",
       "75%    15000.000000     14000.000000     14.720000    428.180000   \n",
       "max    35000.000000     35000.000000     24.590000   1305.190000   \n",
       "\n",
       "         annual_inc           dti  term_ 36 months  term_ 60 months  \\\n",
       "count  4.253500e+04  42535.000000     42535.000000     42535.000000   \n",
       "mean   6.913656e+04     13.373043         0.741366         0.258634   \n",
       "std    6.409334e+04      6.726315         0.437889         0.437889   \n",
       "min    1.896000e+03      0.000000         0.000000         0.000000   \n",
       "25%    4.000000e+04      8.200000         0.000000         0.000000   \n",
       "50%    5.900000e+04     13.470000         1.000000         0.000000   \n",
       "75%    8.250000e+04     18.680000         1.000000         1.000000   \n",
       "max    6.000000e+06     29.990000         1.000000         1.000000   \n",
       "\n",
       "       emp_length_1 year  emp_length_10+ years       ...         \\\n",
       "count       42535.000000          42535.000000       ...          \n",
       "mean            0.084519              0.220266       ...          \n",
       "std             0.278167              0.414431       ...          \n",
       "min             0.000000              0.000000       ...          \n",
       "25%             0.000000              0.000000       ...          \n",
       "50%             0.000000              0.000000       ...          \n",
       "75%             0.000000              0.000000       ...          \n",
       "max             1.000000              1.000000       ...          \n",
       "\n",
       "       issue_month_Dec  issue_month_Feb  issue_month_Jan  issue_month_Jul  \\\n",
       "count     42535.000000     42535.000000     42535.000000     42535.000000   \n",
       "mean          0.110145         0.060844         0.061502         0.086846   \n",
       "std           0.313074         0.239047         0.240252         0.281613   \n",
       "min           0.000000         0.000000         0.000000         0.000000   \n",
       "25%           0.000000         0.000000         0.000000         0.000000   \n",
       "50%           0.000000         0.000000         0.000000         0.000000   \n",
       "75%           0.000000         0.000000         0.000000         0.000000   \n",
       "max           1.000000         1.000000         1.000000         1.000000   \n",
       "\n",
       "       issue_month_Jun  issue_month_Mar  issue_month_May  issue_month_Nov  \\\n",
       "count     42535.000000     42535.000000     42535.000000     42535.000000   \n",
       "mean          0.082144         0.070577         0.074456         0.104361   \n",
       "std           0.274587         0.256120         0.262515         0.305732   \n",
       "min           0.000000         0.000000         0.000000         0.000000   \n",
       "25%           0.000000         0.000000         0.000000         0.000000   \n",
       "50%           0.000000         0.000000         0.000000         0.000000   \n",
       "75%           0.000000         0.000000         0.000000         0.000000   \n",
       "max           1.000000         1.000000         1.000000         1.000000   \n",
       "\n",
       "       issue_month_Oct  issue_month_Sep  \n",
       "count     42535.000000     42535.000000  \n",
       "mean          0.098296         0.091054  \n",
       "std           0.297717         0.287690  \n",
       "min           0.000000         0.000000  \n",
       "25%           0.000000         0.000000  \n",
       "50%           0.000000         0.000000  \n",
       "75%           0.000000         0.000000  \n",
       "max           1.000000         1.000000  \n",
       "\n",
       "[8 rows x 39 columns]"
      ]
     },
     "execution_count": 14,
     "metadata": {},
     "output_type": "execute_result"
    }
   ],
   "source": [
    "# Create dummy columns\n",
    "df_prep = pd.get_dummies(data=df_prep, columns=dummies)\n",
    "df_prep.describe()"
   ]
  },
  {
   "cell_type": "code",
   "execution_count": 15,
   "metadata": {
    "scrolled": true
   },
   "outputs": [
    {
     "name": "stdout",
     "output_type": "stream",
     "text": [
      "funded_amnt\n",
      "funded_amnt_inv\n",
      "int_rate\n",
      "installment\n",
      "annual_inc\n",
      "dti\n",
      "term_ 36 months\n",
      "term_ 60 months\n",
      "emp_length_1 year\n",
      "emp_length_10+ years\n",
      "emp_length_2 years\n",
      "emp_length_3 years\n",
      "emp_length_4 years\n",
      "emp_length_5 years\n",
      "emp_length_6 years\n",
      "emp_length_7 years\n",
      "emp_length_8 years\n",
      "emp_length_9 years\n",
      "emp_length_< 1 year\n",
      "home_ownership_MORTGAGE\n",
      "home_ownership_NONE\n",
      "home_ownership_OTHER\n",
      "home_ownership_OWN\n",
      "home_ownership_RENT\n",
      "verification_status_Not Verified\n",
      "verification_status_Source Verified\n",
      "verification_status_Verified\n",
      "issue_month_Apr\n",
      "issue_month_Aug\n",
      "issue_month_Dec\n",
      "issue_month_Feb\n",
      "issue_month_Jan\n",
      "issue_month_Jul\n",
      "issue_month_Jun\n",
      "issue_month_Mar\n",
      "issue_month_May\n",
      "issue_month_Nov\n",
      "issue_month_Oct\n",
      "issue_month_Sep\n"
     ]
    }
   ],
   "source": [
    "# list feature columns remaining for creating model\n",
    "feat_labels = [c for c in df_prep]\n",
    "\n",
    "for c in feat_labels:\n",
    "    print(c)"
   ]
  },
  {
   "cell_type": "code",
   "execution_count": 16,
   "metadata": {
    "collapsed": true
   },
   "outputs": [],
   "source": [
    "X = df_prep.values"
   ]
  },
  {
   "cell_type": "code",
   "execution_count": 17,
   "metadata": {
    "scrolled": true
   },
   "outputs": [
    {
     "name": "stdout",
     "output_type": "stream",
     "text": [
      "Applications:    42535\n",
      "Dimensions:      39\n"
     ]
    }
   ],
   "source": [
    "print('Applications:   ', X.shape[0])\n",
    "print('Dimensions:     ', X.shape[1])"
   ]
  },
  {
   "cell_type": "code",
   "execution_count": 18,
   "metadata": {
    "collapsed": true
   },
   "outputs": [],
   "source": [
    "# create train and test data sets for model analysis \n",
    "X_train, X_test, y_train, y_test = train_test_split(X, y, test_size=0.2, random_state=0)"
   ]
  },
  {
   "cell_type": "code",
   "execution_count": 19,
   "metadata": {},
   "outputs": [
    {
     "name": "stdout",
     "output_type": "stream",
     "text": [
      "Test shape:    8507\n",
      "Dimensions: 39\n"
     ]
    }
   ],
   "source": [
    "print('Test shape:   ', X_test.shape[0])\n",
    "print('Dimensions:', X_test.shape[1])"
   ]
  },
  {
   "cell_type": "markdown",
   "metadata": {},
   "source": [
    "## Test to see that you have enough data for modeling"
   ]
  },
  {
   "cell_type": "code",
   "execution_count": 20,
   "metadata": {
    "collapsed": true
   },
   "outputs": [],
   "source": [
    "from sklearn import tree\n",
    "\n",
    "ps = [340, 1701, 3402, 6805, 10208, 17014, 23819, 27222, 30625, 34028]\n",
    "test_scores = []\n",
    "train_scores = []\n",
    "\n",
    "for p in ps:\n",
    "    X_train2 = X_train[:p]\n",
    "    y_train2 = y_train[:p]\n",
    "    rf2 = tree.DecisionTreeClassifier(max_depth = 7, random_state=0, class_weight='balanced')\n",
    "    rf2.fit(X_train2, y_train2)\n",
    "    y_rf2 = rf2.predict(X_test)\n",
    "    y_rf3 = rf2.predict(X_train2)\n",
    "    cm_test = confusion_matrix(y_test, y_rf2)\n",
    "    cm_train = confusion_matrix(y_train2, y_rf3)\n",
    "    test_scores.append(cm_test[1, 1]/(cm_test[1, 1]+cm_test[1, 0]))\n",
    "    train_scores.append(cm_train[1, 1]/(cm_train[1, 1]+cm_train[1, 0]))"
   ]
  },
  {
   "cell_type": "code",
   "execution_count": 21,
   "metadata": {},
   "outputs": [
    {
     "data": {
      "image/png": "[encoded data removed]",
      "text/plain": [
       "<matplotlib.figure.Figure at 0x11e60dba8>"
      ]
     },
     "metadata": {},
     "output_type": "display_data"
    }
   ],
   "source": [
    "plt.plot(ps, test_scores ,'r', label='Line 2')\n",
    "plt.xlabel('Proportion of X_train data')\n",
    " \n",
    "plt.plot(ps, train_scores, 'b', label='Line 1')\n",
    "plt.xlabel('Proportion of X_train data')\n",
    "plt.ylabel('true negative rate ')\n",
    "plt.title('true negative rate for training and testing data')\n",
    "plt.legend( ['test_scores', 'train_scores'])\n",
    "plt.show()"
   ]
  },
  {
   "cell_type": "markdown",
   "metadata": {},
   "source": [
    "## Random Forest"
   ]
  },
  {
   "cell_type": "code",
   "execution_count": 22,
   "metadata": {},
   "outputs": [
    {
     "name": "stdout",
     "output_type": "stream",
     "text": [
      "Test accuracy: 0.84\n",
      "[[7101   76]\n",
      " [1291   39]]\n",
      "             precision    recall  f1-score   support\n",
      "\n",
      "          0     0.8462    0.9894    0.9122      7177\n",
      "          1     0.3391    0.0293    0.0540      1330\n",
      "\n",
      "avg / total     0.7669    0.8393    0.7780      8507\n",
      "\n",
      "CPU times: user 593 ms, sys: 14.4 ms, total: 607 ms\n",
      "Wall time: 618 ms\n"
     ]
    }
   ],
   "source": [
    "%%time\n",
    "\n",
    "# run Random Forest Classifier with default parameters to get baseline \n",
    "rf = RandomForestClassifier(random_state=0, class_weight='balanced')\n",
    "\n",
    "rf.fit(X_train, y_train)\n",
    "\n",
    "y_pred = rf.predict(X_test)\n",
    "\n",
    "errors = abs(y_pred - y_test)\n",
    "\n",
    "print('Test accuracy: ', 1.0 - round(np.mean(errors), 2), sep='')\n",
    "\n",
    "print(confusion_matrix(y_test, y_pred))\n",
    "print(classification_report(y_test, y_pred, sample_weight=None, digits=4))"
   ]
  },
  {
   "cell_type": "code",
   "execution_count": 23,
   "metadata": {
    "scrolled": true
   },
   "outputs": [
    {
     "name": "stdout",
     "output_type": "stream",
     "text": [
      "(0.09, 'funded_amnt')\n",
      "(0.12, 'funded_amnt_inv')\n",
      "(0.13, 'int_rate')\n",
      "(0.12, 'installment')\n",
      "(0.12, 'annual_inc')\n",
      "(0.13, 'dti')\n",
      "(0.01, 'term_ 36 months')\n",
      "(0.01, 'term_ 60 months')\n",
      "(0.01, 'emp_length_1 year')\n",
      "(0.01, 'emp_length_10+ years')\n",
      "(0.01, 'emp_length_2 years')\n",
      "(0.01, 'emp_length_3 years')\n",
      "(0.01, 'emp_length_4 years')\n",
      "(0.01, 'emp_length_5 years')\n",
      "(0.01, 'emp_length_6 years')\n",
      "(0.01, 'emp_length_7 years')\n",
      "(0.01, 'emp_length_8 years')\n",
      "(0.01, 'emp_length_9 years')\n",
      "(0.01, 'emp_length_< 1 year')\n",
      "(0.01, 'home_ownership_MORTGAGE')\n",
      "(0.0, 'home_ownership_NONE')\n",
      "(0.0, 'home_ownership_OTHER')\n",
      "(0.01, 'home_ownership_OWN')\n",
      "(0.01, 'home_ownership_RENT')\n",
      "(0.01, 'verification_status_Not Verified')\n",
      "(0.01, 'verification_status_Source Verified')\n",
      "(0.01, 'verification_status_Verified')\n",
      "(0.01, 'issue_month_Apr')\n",
      "(0.01, 'issue_month_Aug')\n",
      "(0.01, 'issue_month_Dec')\n",
      "(0.01, 'issue_month_Feb')\n",
      "(0.01, 'issue_month_Jan')\n",
      "(0.01, 'issue_month_Jul')\n",
      "(0.01, 'issue_month_Jun')\n",
      "(0.01, 'issue_month_Mar')\n",
      "(0.01, 'issue_month_May')\n",
      "(0.01, 'issue_month_Nov')\n",
      "(0.01, 'issue_month_Oct')\n",
      "(0.01, 'issue_month_Sep')\n"
     ]
    }
   ],
   "source": [
    "# print feature weights from model \n",
    "for feature in zip([round(elem, 2) for elem in rf.feature_importances_], feat_labels):\n",
    "    print(feature)"
   ]
  },
  {
   "cell_type": "code",
   "execution_count": 23,
   "metadata": {
    "collapsed": true
   },
   "outputs": [],
   "source": [
    "# Create function for GridSearchCV\n",
    "def fit_model(X, y):\n",
    " \n",
    "    # Create cross-validation sets from the training data\n",
    "    cv_sets = ShuffleSplit(X.shape[0], n_iter = 5, test_size = 0.20, random_state = 0)\n",
    "\n",
    "    #  Create a decision tree regressor object\n",
    "    regressor = RandomForestClassifier(class_weight='balanced', random_state=0)\n",
    "\n",
    "    #  Create a dictionary for the parameters to test \n",
    "    params = {'max_depth': [5, 15, 25],\n",
    "             'n_estimators': [15, 25, 50]}\n",
    "\n",
    "    #  Transform 'performance_metric' into a scoring function using 'make_scorer' \n",
    "    scoring_fnc = make_scorer(performance_metric)\n",
    "\n",
    "    #  Create the grid search object\n",
    "    grid = GridSearchCV(regressor, params, scoring_fnc, cv=cv_sets)\n",
    "\n",
    "    # Fit the grid search object to the data to compute the optimal model\n",
    "    grid = grid.fit(X, y)\n",
    "\n",
    "    # Return the optimal model after fitting the data\n",
    "    return grid.best_estimator_, grid\n",
    "\n",
    "def performance_metric(y_true, y_predict):\n",
    "    cm = confusion_matrix(y_true, y_predict)\n",
    "    score = cm[1,1]/(cm[1,1]+cm[1,0])\n",
    " \n",
    "    return score"
   ]
  },
  {
   "cell_type": "code",
   "execution_count": 24,
   "metadata": {},
   "outputs": [
    {
     "name": "stdout",
     "output_type": "stream",
     "text": [
      "CPU times: user 49.3 s, sys: 1.24 s, total: 50.6 s\n",
      "Wall time: 51 s\n"
     ]
    }
   ],
   "source": [
    "%%time\n",
    "# Run GridSearchCV on RandomForestClassifier \n",
    "best_estimator_rfc, grid_rfc = fit_model(X,y)"
   ]
  },
  {
   "cell_type": "code",
   "execution_count": 25,
   "metadata": {},
   "outputs": [
    {
     "data": {
      "text/plain": [
       "RandomForestClassifier(bootstrap=True, class_weight='balanced',\n",
       "            criterion='gini', max_depth=5, max_features='auto',\n",
       "            max_leaf_nodes=None, min_impurity_split=1e-07,\n",
       "            min_samples_leaf=1, min_samples_split=2,\n",
       "            min_weight_fraction_leaf=0.0, n_estimators=25, n_jobs=1,\n",
       "            oob_score=False, random_state=0, verbose=0, warm_start=False)"
      ]
     },
     "execution_count": 25,
     "metadata": {},
     "output_type": "execute_result"
    }
   ],
   "source": [
    "best_estimator_rfc"
   ]
  },
  {
   "cell_type": "code",
   "execution_count": 26,
   "metadata": {},
   "outputs": [
    {
     "data": {
      "image/png": "[encoded data removed]",
      "text/plain": [
       "<matplotlib.figure.Figure at 0x11d3ae748>"
      ]
     },
     "metadata": {},
     "output_type": "display_data"
    }
   ],
   "source": [
    "# plot max_depth results from GridSearchCV\n",
    "plot.grid_search(grid_rfc.grid_scores_, change='n_estimators', kind='line')\n",
    "fig_size[0] = 12\n",
    "fig_size[1] = 8\n",
    "plt.legend(bbox_to_anchor=(1.1, 1.05))\n",
    "plt.show()"
   ]
  },
  {
   "cell_type": "code",
   "execution_count": 28,
   "metadata": {},
   "outputs": [
    {
     "name": "stdout",
     "output_type": "stream",
     "text": [
      "Test accuracy: 0.63\n",
      "[[4492 2685]\n",
      " [ 485  845]]\n",
      "             precision    recall  f1-score   support\n",
      "\n",
      "          0     0.9026    0.6259    0.7392      7177\n",
      "          1     0.2394    0.6353    0.3477      1330\n",
      "\n",
      "avg / total     0.7989    0.6274    0.6780      8507\n",
      "\n"
     ]
    }
   ],
   "source": [
    "# run RandomForestClassifier using parameters identified in GridSearchCV with class weights balanced   \n",
    "\n",
    "rf = RandomForestClassifier(class_weight='balanced', max_depth=5, n_estimators=25, random_state=0)\n",
    "\n",
    "rf.fit(X_train, y_train)\n",
    "\n",
    "y_pred = rf.predict(X_test)\n",
    "\n",
    "errors = abs(y_pred - y_test)\n",
    "\n",
    "print('Test accuracy: ', 1.0 - round(np.mean(errors), 2), sep='')\n",
    "\n",
    "print(confusion_matrix(y_test, y_pred))\n",
    "print(classification_report(y_test, y_pred, sample_weight=None, digits=4))"
   ]
  },
  {
   "cell_type": "markdown",
   "metadata": {},
   "source": [
    "## kNN"
   ]
  },
  {
   "cell_type": "code",
   "execution_count": 29,
   "metadata": {},
   "outputs": [
    {
     "name": "stdout",
     "output_type": "stream",
     "text": [
      "kNN Accuracy:  0.8268484777242271\n",
      "[[6976  201]\n",
      " [1272   58]]\n",
      "             precision    recall  f1-score   support\n",
      "\n",
      "          0     0.8458    0.9720    0.9045      7177\n",
      "          1     0.2239    0.0436    0.0730      1330\n",
      "\n",
      "avg / total     0.7486    0.8268    0.7745      8507\n",
      "\n"
     ]
    }
   ],
   "source": [
    "# run KNeighborsClassifier using default parameters\n",
    "knn = KNeighborsClassifier()\n",
    "\n",
    "knn.fit(X_train, y_train)\n",
    "y_pred_knn = knn.predict(X_test)\n",
    "\n",
    "print(\"kNN Accuracy: \", accuracy_score(y_test, y_pred_knn))\n",
    "\n",
    "print(confusion_matrix(y_test, y_pred_knn))\n",
    "print(classification_report(y_test, y_pred_knn, sample_weight=None, digits=4))"
   ]
  },
  {
   "cell_type": "code",
   "execution_count": 30,
   "metadata": {
    "collapsed": true
   },
   "outputs": [],
   "source": [
    "# create function for performing GridSearch CV on model \n",
    "def fit_model_knn(X, y):\n",
    " \n",
    "    # Create cross-validation sets from the training data\n",
    "    cv_sets = ShuffleSplit(X.shape[0], n_iter = 10, test_size = 0.20, random_state = 0)\n",
    "\n",
    "    #  Create a decision tree regressor object\n",
    "    regressor = KNeighborsClassifier()\n",
    "\n",
    "    #  Create a dictionary for the parameter 'max_depth' with a range from 1 to 10\n",
    "    params = {'n_neighbors': [3, 5, 7], 'weights': ['uniform', 'distance']}\n",
    "\n",
    "    #  Transform 'performance_metric' into a scoring function using 'make_scorer' \n",
    "    scoring_fnc = make_scorer(performance_metric)\n",
    "\n",
    "    #  Create the grid search object\n",
    "    grid = GridSearchCV(regressor, params, scoring_fnc, cv=cv_sets)\n",
    "\n",
    "    # Fit the grid search object to the data to compute the optimal model\n",
    "    grid = grid.fit(X, y)\n",
    "\n",
    "    # Return the optimal model after fitting the data\n",
    "    return grid.best_estimator_, grid\n",
    "\n",
    "def performance_metric(y_true, y_predict):\n",
    "    cm = confusion_matrix(y_true, y_predict)\n",
    "    score = cm[1,1]/(cm[1,1]+cm[1,0])\n",
    " \n",
    "    return score"
   ]
  },
  {
   "cell_type": "code",
   "execution_count": 31,
   "metadata": {
    "scrolled": true
   },
   "outputs": [
    {
     "name": "stdout",
     "output_type": "stream",
     "text": [
      "CPU times: user 19.7 s, sys: 509 ms, total: 20.2 s\n",
      "Wall time: 20.3 s\n"
     ]
    }
   ],
   "source": [
    "%%time\n",
    "# run GridSearch CV on model \n",
    "best_estimator_knn, grid_knn = fit_model_knn(X, y)"
   ]
  },
  {
   "cell_type": "code",
   "execution_count": 32,
   "metadata": {},
   "outputs": [
    {
     "data": {
      "text/plain": [
       "KNeighborsClassifier(algorithm='auto', leaf_size=30, metric='minkowski',\n",
       "           metric_params=None, n_jobs=1, n_neighbors=3, p=2,\n",
       "           weights='distance')"
      ]
     },
     "execution_count": 32,
     "metadata": {},
     "output_type": "execute_result"
    }
   ],
   "source": [
    "# print best parameters from GridSearchCV\n",
    "best_estimator_knn"
   ]
  },
  {
   "cell_type": "code",
   "execution_count": 33,
   "metadata": {},
   "outputs": [
    {
     "data": {
      "image/png": "[encoded data removed]",
      "text/plain": [
       "<matplotlib.figure.Figure at 0x11d3aeef0>"
      ]
     },
     "metadata": {},
     "output_type": "display_data"
    }
   ],
   "source": [
    "# Plot n_neighbors results from GridSearchCV\n",
    "plot.grid_search(grid_knn.grid_scores_, change='n_neighbors', kind='line')\n",
    "plt.legend(bbox_to_anchor=(1.1, 1.05))\n",
    "plt.show()"
   ]
  },
  {
   "cell_type": "code",
   "execution_count": 34,
   "metadata": {},
   "outputs": [
    {
     "name": "stdout",
     "output_type": "stream",
     "text": [
      "kNN Accuracy:  0.791465851651581\n",
      "[[6582  595]\n",
      " [1179  151]]\n",
      "             precision    recall  f1-score   support\n",
      "\n",
      "          0     0.8481    0.9171    0.8812      7177\n",
      "          1     0.2024    0.1135    0.1455      1330\n",
      "\n",
      "avg / total     0.7471    0.7915    0.7662      8507\n",
      "\n"
     ]
    }
   ],
   "source": [
    "# run KNeighborsClassifier using results from GridSearchCV optimizing for True Negatives\n",
    "knn = KNeighborsClassifier(n_neighbors=3, weights='distance')\n",
    "\n",
    "knn.fit(X_train, y_train)\n",
    "y_pred_knn = knn.predict(X_test)\n",
    "\n",
    "print(\"kNN Accuracy: \", accuracy_score(y_test, y_pred_knn))\n",
    "\n",
    "print(confusion_matrix(y_test, y_pred_knn))\n",
    "print(classification_report(y_test, y_pred_knn, sample_weight=None, digits=4))"
   ]
  },
  {
   "cell_type": "markdown",
   "metadata": {},
   "source": [
    "## Additional Code Not Used In Final Report\n",
    "Below is additional code I ran to perform some statistical analysis and explore the data that did not end up in my final report. "
   ]
  },
  {
   "cell_type": "code",
   "execution_count": 43,
   "metadata": {},
   "outputs": [
    {
     "data": {
      "image/png": "[encoded data removed]",
      "text/plain": [
       "<matplotlib.figure.Figure at 0x118e93588>"
      ]
     },
     "metadata": {},
     "output_type": "display_data"
    }
   ],
   "source": [
    "# Plot annual income distribution of borrowers\n",
    "plt.hist(df.annual_inc)\n",
    "plt.title('Annual Income Distribution of Borrowers')\n",
    "plt.xlabel('Annual Income (in USD)')\n",
    "plt.ylabel('Count')\n",
    "fig_size = plt.rcParams[\"figure.figsize\"]\n",
    "fig_size[0] = 12\n",
    "fig_size[1] = 8\n",
    "plt.show()"
   ]
  },
  {
   "cell_type": "code",
   "execution_count": 44,
   "metadata": {},
   "outputs": [
    {
     "data": {
      "text/plain": [
       "<matplotlib.text.Text at 0x119be2630>"
      ]
     },
     "execution_count": 44,
     "metadata": {},
     "output_type": "execute_result"
    },
    {
     "data": {
      "image/png": "[encoded data removed]",
      "text/plain": [
       "<matplotlib.figure.Figure at 0x117f04898>"
      ]
     },
     "metadata": {},
     "output_type": "display_data"
    }
   ],
   "source": [
    "# Create a boxplot of annual_inc\n",
    "df.boxplot(column=['annual_inc'])\n",
    "plt.title('Annual Income Distribution')\n",
    "plt.ylabel('Annual Income (in USD)')"
   ]
  },
  {
   "cell_type": "code",
   "execution_count": 45,
   "metadata": {},
   "outputs": [
    {
     "data": {
      "text/html": [
       "<div>\n",
       "<style scoped>\n",
       "    .dataframe tbody tr th:only-of-type {\n",
       "        vertical-align: middle;\n",
       "    }\n",
       "\n",
       "    .dataframe tbody tr th {\n",
       "        vertical-align: top;\n",
       "    }\n",
       "\n",
       "    .dataframe thead th {\n",
       "        text-align: right;\n",
       "    }\n",
       "</style>\n",
       "<table border=\"1\" class=\"dataframe\">\n",
       "  <thead>\n",
       "    <tr style=\"text-align: right;\">\n",
       "      <th></th>\n",
       "      <th>mean</th>\n",
       "      <th>std</th>\n",
       "    </tr>\n",
       "    <tr>\n",
       "      <th>loan_status</th>\n",
       "      <th></th>\n",
       "      <th></th>\n",
       "    </tr>\n",
       "  </thead>\n",
       "  <tbody>\n",
       "    <tr>\n",
       "      <th>0</th>\n",
       "      <td>70164.277724</td>\n",
       "      <td>66280.247602</td>\n",
       "    </tr>\n",
       "    <tr>\n",
       "      <th>1</th>\n",
       "      <td>63366.870530</td>\n",
       "      <td>49684.103432</td>\n",
       "    </tr>\n",
       "  </tbody>\n",
       "</table>\n",
       "</div>"
      ],
      "text/plain": [
       "                     mean           std\n",
       "loan_status                            \n",
       "0            70164.277724  66280.247602\n",
       "1            63366.870530  49684.103432"
      ]
     },
     "execution_count": 45,
     "metadata": {},
     "output_type": "execute_result"
    },
    {
     "data": {
      "image/png": "[encoded data removed]",
      "text/plain": [
       "<matplotlib.figure.Figure at 0x119c08240>"
      ]
     },
     "metadata": {},
     "output_type": "display_data"
    }
   ],
   "source": [
    "# Compare income to loan status \n",
    "df.boxplot(column=['annual_inc'],by = ['loan_status']).set_yscale('log')\n",
    "pd.DataFrame(df.groupby( ['loan_status'])['annual_inc'].describe().loc[:,['mean','std']])"
   ]
  },
  {
   "cell_type": "code",
   "execution_count": 46,
   "metadata": {},
   "outputs": [
    {
     "data": {
      "image/png": "[encoded data removed]",
      "text/plain": [
       "<matplotlib.figure.Figure at 0x11aeb6ef0>"
      ]
     },
     "metadata": {},
     "output_type": "display_data"
    },
    {
     "data": {
      "image/png": "[encoded data removed]",
      "text/plain": [
       "<matplotlib.figure.Figure at 0x119c72668>"
      ]
     },
     "metadata": {},
     "output_type": "display_data"
    },
    {
     "data": {
      "text/html": [
       "<div>\n",
       "<style scoped>\n",
       "    .dataframe tbody tr th:only-of-type {\n",
       "        vertical-align: middle;\n",
       "    }\n",
       "\n",
       "    .dataframe tbody tr th {\n",
       "        vertical-align: top;\n",
       "    }\n",
       "\n",
       "    .dataframe thead th {\n",
       "        text-align: right;\n",
       "    }\n",
       "</style>\n",
       "<table border=\"1\" class=\"dataframe\">\n",
       "  <thead>\n",
       "    <tr style=\"text-align: right;\">\n",
       "      <th></th>\n",
       "      <th>loan_status</th>\n",
       "    </tr>\n",
       "    <tr>\n",
       "      <th>grade</th>\n",
       "      <th></th>\n",
       "    </tr>\n",
       "  </thead>\n",
       "  <tbody>\n",
       "    <tr>\n",
       "      <th>A</th>\n",
       "      <td>0.059904</td>\n",
       "    </tr>\n",
       "    <tr>\n",
       "      <th>B</th>\n",
       "      <td>0.122528</td>\n",
       "    </tr>\n",
       "    <tr>\n",
       "      <th>C</th>\n",
       "      <td>0.172082</td>\n",
       "    </tr>\n",
       "    <tr>\n",
       "      <th>D</th>\n",
       "      <td>0.220578</td>\n",
       "    </tr>\n",
       "    <tr>\n",
       "      <th>E</th>\n",
       "      <td>0.260165</td>\n",
       "    </tr>\n",
       "    <tr>\n",
       "      <th>F</th>\n",
       "      <td>0.319754</td>\n",
       "    </tr>\n",
       "    <tr>\n",
       "      <th>G</th>\n",
       "      <td>0.337891</td>\n",
       "    </tr>\n",
       "  </tbody>\n",
       "</table>\n",
       "</div>"
      ],
      "text/plain": [
       "       loan_status\n",
       "grade             \n",
       "A         0.059904\n",
       "B         0.122528\n",
       "C         0.172082\n",
       "D         0.220578\n",
       "E         0.260165\n",
       "F         0.319754\n",
       "G         0.337891"
      ]
     },
     "execution_count": 46,
     "metadata": {},
     "output_type": "execute_result"
    },
    {
     "data": {
      "image/png": "[encoded data removed]",
      "text/plain": [
       "<matplotlib.figure.Figure at 0x11936ce10>"
      ]
     },
     "metadata": {},
     "output_type": "display_data"
    }
   ],
   "source": [
    "# Create a bar graph that counts the number of loans issued in each grade\n",
    "df.grade.value_counts().sort_index().plot(kind = 'bar')\n",
    "plt.title('Number of Loans Issued for Each Loan Grade')\n",
    "plt.xlabel('Loan Grade')\n",
    "plt.ylabel('Count')\n",
    "plt.xticks(rotation='horizontal')\n",
    "fig_size = plt.rcParams[\"figure.figsize\"]\n",
    "fig_size[0] = 12\n",
    "fig_size[1] = 8\n",
    "plt.show()\n",
    "\n",
    "# Create a bar plot that shows how many loans defaulted in each grade\n",
    "ab = df\n",
    "ab = df[df.loan_status == 1]\n",
    "ab.grade.value_counts().sort_index().plot(kind = 'bar')\n",
    "plt.title('Number of Defaults per Loan Grade')\n",
    "plt.xlabel('Loan Grade')\n",
    "plt.ylabel('Number of Loan Defaults')\n",
    "plt.xticks(rotation='horizontal')\n",
    "fig_size = plt.rcParams[\"figure.figsize\"]\n",
    "fig_size[0] = 12\n",
    "fig_size[1] = 8\n",
    "plt.show()\n",
    "\n",
    "# Create a proportion chart to show the proportion of loans that default in each grade\n",
    "df.groupby(['grade'])[['loan_status']].mean().plot(kind='bar').set_ylabel('Count')\n",
    "plt.title('Proportion of Loan Defaults per Grade')\n",
    "df.groupby(['grade' ])[['loan_status']].mean()"
   ]
  },
  {
   "cell_type": "code",
   "execution_count": 47,
   "metadata": {},
   "outputs": [
    {
     "data": {
      "image/png": "[encoded data removed]",
      "text/plain": [
       "<matplotlib.figure.Figure at 0x11aeb3ac8>"
      ]
     },
     "metadata": {},
     "output_type": "display_data"
    }
   ],
   "source": [
    "# Create a histogram of funded_amnt\n",
    "plt.hist(df.funded_amnt, 15)\n",
    "plt.title('Amount Funded per Loan')\n",
    "plt.xlabel('Funded Amount (in USD)')\n",
    "plt.ylabel('Count')\n",
    "fig_size = plt.rcParams[\"figure.figsize\"]\n",
    "fig_size[0] = 12\n",
    "fig_size[1] = 8\n",
    "plt.show()"
   ]
  },
  {
   "cell_type": "code",
   "execution_count": 48,
   "metadata": {},
   "outputs": [
    {
     "data": {
      "text/html": [
       "<div>\n",
       "<style scoped>\n",
       "    .dataframe tbody tr th:only-of-type {\n",
       "        vertical-align: middle;\n",
       "    }\n",
       "\n",
       "    .dataframe tbody tr th {\n",
       "        vertical-align: top;\n",
       "    }\n",
       "\n",
       "    .dataframe thead th {\n",
       "        text-align: right;\n",
       "    }\n",
       "</style>\n",
       "<table border=\"1\" class=\"dataframe\">\n",
       "  <thead>\n",
       "    <tr style=\"text-align: right;\">\n",
       "      <th></th>\n",
       "      <th>funded_amnt</th>\n",
       "    </tr>\n",
       "    <tr>\n",
       "      <th>loan_status</th>\n",
       "      <th></th>\n",
       "    </tr>\n",
       "  </thead>\n",
       "  <tbody>\n",
       "    <tr>\n",
       "      <th>0</th>\n",
       "      <td>10702.134805</td>\n",
       "    </tr>\n",
       "    <tr>\n",
       "      <th>1</th>\n",
       "      <td>11492.190173</td>\n",
       "    </tr>\n",
       "  </tbody>\n",
       "</table>\n",
       "</div>"
      ],
      "text/plain": [
       "              funded_amnt\n",
       "loan_status              \n",
       "0            10702.134805\n",
       "1            11492.190173"
      ]
     },
     "execution_count": 48,
     "metadata": {},
     "output_type": "execute_result"
    },
    {
     "data": {
      "image/png": "[encoded data removed]",
      "text/plain": [
       "<matplotlib.figure.Figure at 0x118aae4a8>"
      ]
     },
     "metadata": {},
     "output_type": "display_data"
    },
    {
     "data": {
      "image/png": "[encoded data removed]",
      "text/plain": [
       "<matplotlib.figure.Figure at 0x1181438d0>"
      ]
     },
     "metadata": {},
     "output_type": "display_data"
    }
   ],
   "source": [
    "# Create box plot of funded_amnt and loan_status\n",
    "df.boxplot(column=['funded_amnt'],by = ['loan_status']).set_yscale('log')\n",
    "pd.DataFrame(df.groupby( ['loan_status'])['funded_amnt'].describe().loc[:,['mean','std']])\n",
    "\n",
    "# Compare the ratio for funded_amnt and loan_status\n",
    "df.groupby(['loan_status'])[['funded_amnt']].mean().plot(kind='bar').set_ylabel('Count')\n",
    "df.groupby(['loan_status' ])[['funded_amnt']].mean()"
   ]
  },
  {
   "cell_type": "code",
   "execution_count": 50,
   "metadata": {},
   "outputs": [
    {
     "data": {
      "text/plain": [
       "Ttest_indResult(statistic=-8.173693365124826, pvalue=3.072709571040925e-16)"
      ]
     },
     "execution_count": 50,
     "metadata": {},
     "output_type": "execute_result"
    }
   ],
   "source": [
    "from scipy import stats\n",
    "\n",
    "#Perform a t-test on funded_amnt\n",
    "val1 = df.funded_amnt[df.loan_status == 0]\n",
    "val2 = df.funded_amnt[df.loan_status == 1]\n",
    "stats.ttest_ind(val1, val2)"
   ]
  },
  {
   "cell_type": "code",
   "execution_count": 51,
   "metadata": {},
   "outputs": [
    {
     "data": {
      "image/png": "[encoded data removed]",
      "text/plain": [
       "<matplotlib.figure.Figure at 0x118ab3ba8>"
      ]
     },
     "metadata": {},
     "output_type": "display_data"
    }
   ],
   "source": [
    "# Graph distribution of employment length\n",
    "df.emp_length.value_counts().plot(kind = 'bar')\n",
    "plt.title('Length of Employment')\n",
    "plt.xlabel('Length of Employment (in years)')\n",
    "plt.ylabel('Count')\n",
    "plt.xticks(rotation='45')\n",
    "fig_size = plt.rcParams[\"figure.figsize\"]\n",
    "fig_size[0] = 12\n",
    "fig_size[1] = 8\n",
    "import statsmodels.api as smplt.show()"
   ]
  },
  {
   "cell_type": "code",
   "execution_count": 53,
   "metadata": {},
   "outputs": [
    {
     "name": "stderr",
     "output_type": "stream",
     "text": [
      "/Users/ameenakhan/anaconda/lib/python3.6/site-packages/statsmodels/compat/pandas.py:56: FutureWarning: The pandas.core.datetools module is deprecated and will be removed in a future version. Please use the pandas.tseries module instead.\n",
      "  from pandas.core import datetools\n"
     ]
    },
    {
     "name": "stdout",
     "output_type": "stream",
     "text": [
      "Optimization terminated successfully.\n",
      "         Current function value: 0.424087\n",
      "         Iterations 6\n"
     ]
    },
    {
     "data": {
      "text/html": [
       "<table class=\"simpletable\">\n",
       "<caption>Logit Regression Results</caption>\n",
       "<tr>\n",
       "  <th>Dep. Variable:</th>    <td>loan_status</td>   <th>  No. Observations:  </th>  <td> 42535</td>  \n",
       "</tr>\n",
       "<tr>\n",
       "  <th>Model:</th>               <td>Logit</td>      <th>  Df Residuals:      </th>  <td> 42523</td>  \n",
       "</tr>\n",
       "<tr>\n",
       "  <th>Method:</th>               <td>MLE</td>       <th>  Df Model:          </th>  <td>    11</td>  \n",
       "</tr>\n",
       "<tr>\n",
       "  <th>Date:</th>          <td>Tue, 04 Sep 2018</td> <th>  Pseudo R-squ.:     </th> <td>0.001616</td> \n",
       "</tr>\n",
       "<tr>\n",
       "  <th>Time:</th>              <td>19:59:22</td>     <th>  Log-Likelihood:    </th> <td> -18039.</td> \n",
       "</tr>\n",
       "<tr>\n",
       "  <th>converged:</th>           <td>True</td>       <th>  LL-Null:           </th> <td> -18068.</td> \n",
       "</tr>\n",
       "<tr>\n",
       "  <th> </th>                      <td> </td>        <th>  LLR p-value:       </th> <td>1.830e-08</td>\n",
       "</tr>\n",
       "</table>\n",
       "<table class=\"simpletable\">\n",
       "<tr>\n",
       "      <td></td>         <th>coef</th>     <th>std err</th>      <th>z</th>      <th>P>|z|</th>  <th>[0.025</th>    <th>0.975]</th>  \n",
       "</tr>\n",
       "<tr>\n",
       "  <th>1 year</th>    <td>   -0.4454</td> <td>    0.086</td> <td>   -5.185</td> <td> 0.000</td> <td>   -0.614</td> <td>   -0.277</td>\n",
       "</tr>\n",
       "<tr>\n",
       "  <th>10+ years</th> <td>   -0.3905</td> <td>    0.078</td> <td>   -5.030</td> <td> 0.000</td> <td>   -0.543</td> <td>   -0.238</td>\n",
       "</tr>\n",
       "<tr>\n",
       "  <th>2 years</th>   <td>   -0.5692</td> <td>    0.084</td> <td>   -6.799</td> <td> 0.000</td> <td>   -0.733</td> <td>   -0.405</td>\n",
       "</tr>\n",
       "<tr>\n",
       "  <th>3 years</th>   <td>   -0.5157</td> <td>    0.084</td> <td>   -6.125</td> <td> 0.000</td> <td>   -0.681</td> <td>   -0.351</td>\n",
       "</tr>\n",
       "<tr>\n",
       "  <th>4 years</th>   <td>   -0.5264</td> <td>    0.086</td> <td>   -6.090</td> <td> 0.000</td> <td>   -0.696</td> <td>   -0.357</td>\n",
       "</tr>\n",
       "<tr>\n",
       "  <th>5 years</th>   <td>   -0.4930</td> <td>    0.087</td> <td>   -5.678</td> <td> 0.000</td> <td>   -0.663</td> <td>   -0.323</td>\n",
       "</tr>\n",
       "<tr>\n",
       "  <th>6 years</th>   <td>   -0.4849</td> <td>    0.093</td> <td>   -5.238</td> <td> 0.000</td> <td>   -0.666</td> <td>   -0.303</td>\n",
       "</tr>\n",
       "<tr>\n",
       "  <th>7 years</th>   <td>   -0.4144</td> <td>    0.096</td> <td>   -4.307</td> <td> 0.000</td> <td>   -0.603</td> <td>   -0.226</td>\n",
       "</tr>\n",
       "<tr>\n",
       "  <th>8 years</th>   <td>   -0.4748</td> <td>    0.101</td> <td>   -4.707</td> <td> 0.000</td> <td>   -0.672</td> <td>   -0.277</td>\n",
       "</tr>\n",
       "<tr>\n",
       "  <th>9 years</th>   <td>   -0.6003</td> <td>    0.108</td> <td>   -5.561</td> <td> 0.000</td> <td>   -0.812</td> <td>   -0.389</td>\n",
       "</tr>\n",
       "<tr>\n",
       "  <th>< 1 year</th>  <td>   -0.4837</td> <td>    0.082</td> <td>   -5.867</td> <td> 0.000</td> <td>   -0.645</td> <td>   -0.322</td>\n",
       "</tr>\n",
       "<tr>\n",
       "  <th>intercept</th> <td>   -1.2638</td> <td>    0.072</td> <td>  -17.467</td> <td> 0.000</td> <td>   -1.406</td> <td>   -1.122</td>\n",
       "</tr>\n",
       "</table>"
      ],
      "text/plain": [
       "<class 'statsmodels.iolib.summary.Summary'>\n",
       "\"\"\"\n",
       "                           Logit Regression Results                           \n",
       "==============================================================================\n",
       "Dep. Variable:            loan_status   No. Observations:                42535\n",
       "Model:                          Logit   Df Residuals:                    42523\n",
       "Method:                           MLE   Df Model:                           11\n",
       "Date:                Tue, 04 Sep 2018   Pseudo R-squ.:                0.001616\n",
       "Time:                        19:59:22   Log-Likelihood:                -18039.\n",
       "converged:                       True   LL-Null:                       -18068.\n",
       "                                        LLR p-value:                 1.830e-08\n",
       "==============================================================================\n",
       "                 coef    std err          z      P>|z|      [0.025      0.975]\n",
       "------------------------------------------------------------------------------\n",
       "1 year        -0.4454      0.086     -5.185      0.000      -0.614      -0.277\n",
       "10+ years     -0.3905      0.078     -5.030      0.000      -0.543      -0.238\n",
       "2 years       -0.5692      0.084     -6.799      0.000      -0.733      -0.405\n",
       "3 years       -0.5157      0.084     -6.125      0.000      -0.681      -0.351\n",
       "4 years       -0.5264      0.086     -6.090      0.000      -0.696      -0.357\n",
       "5 years       -0.4930      0.087     -5.678      0.000      -0.663      -0.323\n",
       "6 years       -0.4849      0.093     -5.238      0.000      -0.666      -0.303\n",
       "7 years       -0.4144      0.096     -4.307      0.000      -0.603      -0.226\n",
       "8 years       -0.4748      0.101     -4.707      0.000      -0.672      -0.277\n",
       "9 years       -0.6003      0.108     -5.561      0.000      -0.812      -0.389\n",
       "< 1 year      -0.4837      0.082     -5.867      0.000      -0.645      -0.322\n",
       "intercept     -1.2638      0.072    -17.467      0.000      -1.406      -1.122\n",
       "==============================================================================\n",
       "\"\"\""
      ]
     },
     "execution_count": 53,
     "metadata": {},
     "output_type": "execute_result"
    }
   ],
   "source": [
    "import statsmodels.api as sm\n",
    "\n",
    "# Perform logistic regression\n",
    "df_ind = pd.get_dummies(df['emp_length'])\n",
    "df_ind['intercept'] = 1\n",
    "df_ind['loan_status'] = df.loan_status\n",
    "\n",
    "logit = sm.Logit(df_ind['loan_status'], df_ind [['1 year','10+ years','2 years','3 years','4 years','5 years',\n",
    "                                                 '6 years','7 years','8 years','9 years','< 1 year', 'intercept']] )\n",
    "\n",
    "result = logit.fit() \n",
    "\n",
    "result.summary()"
   ]
  },
  {
   "cell_type": "code",
   "execution_count": 54,
   "metadata": {},
   "outputs": [
    {
     "data": {
      "image/png": "[encoded data removed]",
      "text/plain": [
       "<matplotlib.figure.Figure at 0x1182cd710>"
      ]
     },
     "metadata": {},
     "output_type": "display_data"
    }
   ],
   "source": [
    "# Graph distribution of home ownership\n",
    "df.home_ownership.value_counts().plot(kind = 'bar')\n",
    "plt.title('Rent or Own')\n",
    "plt.xlabel('Home Ownership')\n",
    "plt.ylabel('Count')\n",
    "plt.xticks(rotation='horizontal')\n",
    "fig_size = plt.rcParams[\"figure.figsize\"]\n",
    "fig_size[0] = 12\n",
    "fig_size[1] = 8\n",
    "plt.show()"
   ]
  },
  {
   "cell_type": "code",
   "execution_count": 55,
   "metadata": {},
   "outputs": [
    {
     "name": "stdout",
     "output_type": "stream",
     "text": [
      "Optimization terminated successfully.\n",
      "         Current function value: 0.424482\n",
      "         Iterations 6\n"
     ]
    },
    {
     "data": {
      "text/html": [
       "<table class=\"simpletable\">\n",
       "<caption>Logit Regression Results</caption>\n",
       "<tr>\n",
       "  <th>Dep. Variable:</th>    <td>loan_status</td>   <th>  No. Observations:  </th>  <td> 42535</td>  \n",
       "</tr>\n",
       "<tr>\n",
       "  <th>Model:</th>               <td>Logit</td>      <th>  Df Residuals:      </th>  <td> 42530</td>  \n",
       "</tr>\n",
       "<tr>\n",
       "  <th>Method:</th>               <td>MLE</td>       <th>  Df Model:          </th>  <td>     4</td>  \n",
       "</tr>\n",
       "<tr>\n",
       "  <th>Date:</th>          <td>Tue, 04 Sep 2018</td> <th>  Pseudo R-squ.:     </th> <td>0.0006844</td>\n",
       "</tr>\n",
       "<tr>\n",
       "  <th>Time:</th>              <td>19:59:23</td>     <th>  Log-Likelihood:    </th> <td> -18055.</td> \n",
       "</tr>\n",
       "<tr>\n",
       "  <th>converged:</th>           <td>True</td>       <th>  LL-Null:           </th> <td> -18068.</td> \n",
       "</tr>\n",
       "<tr>\n",
       "  <th> </th>                      <td> </td>        <th>  LLR p-value:       </th> <td>5.695e-05</td>\n",
       "</tr>\n",
       "</table>\n",
       "<table class=\"simpletable\">\n",
       "<tr>\n",
       "      <td></td>         <th>coef</th>     <th>std err</th>      <th>z</th>      <th>P>|z|</th>  <th>[0.025</th>    <th>0.975]</th>  \n",
       "</tr>\n",
       "<tr>\n",
       "  <th>MORTGAGE</th>  <td>    0.1501</td> <td>    1.069</td> <td>    0.140</td> <td> 0.888</td> <td>   -1.946</td> <td>    2.246</td>\n",
       "</tr>\n",
       "<tr>\n",
       "  <th>OTHER</th>     <td>    0.6404</td> <td>    1.089</td> <td>    0.588</td> <td> 0.557</td> <td>   -1.495</td> <td>    2.775</td>\n",
       "</tr>\n",
       "<tr>\n",
       "  <th>OWN</th>       <td>    0.2289</td> <td>    1.070</td> <td>    0.214</td> <td> 0.831</td> <td>   -1.869</td> <td>    2.326</td>\n",
       "</tr>\n",
       "<tr>\n",
       "  <th>RENT</th>      <td>    0.2796</td> <td>    1.069</td> <td>    0.261</td> <td> 0.794</td> <td>   -1.816</td> <td>    2.375</td>\n",
       "</tr>\n",
       "<tr>\n",
       "  <th>intercept</th> <td>   -1.9459</td> <td>    1.069</td> <td>   -1.820</td> <td> 0.069</td> <td>   -4.041</td> <td>    0.149</td>\n",
       "</tr>\n",
       "</table>"
      ],
      "text/plain": [
       "<class 'statsmodels.iolib.summary.Summary'>\n",
       "\"\"\"\n",
       "                           Logit Regression Results                           \n",
       "==============================================================================\n",
       "Dep. Variable:            loan_status   No. Observations:                42535\n",
       "Model:                          Logit   Df Residuals:                    42530\n",
       "Method:                           MLE   Df Model:                            4\n",
       "Date:                Tue, 04 Sep 2018   Pseudo R-squ.:               0.0006844\n",
       "Time:                        19:59:23   Log-Likelihood:                -18055.\n",
       "converged:                       True   LL-Null:                       -18068.\n",
       "                                        LLR p-value:                 5.695e-05\n",
       "==============================================================================\n",
       "                 coef    std err          z      P>|z|      [0.025      0.975]\n",
       "------------------------------------------------------------------------------\n",
       "MORTGAGE       0.1501      1.069      0.140      0.888      -1.946       2.246\n",
       "OTHER          0.6404      1.089      0.588      0.557      -1.495       2.775\n",
       "OWN            0.2289      1.070      0.214      0.831      -1.869       2.326\n",
       "RENT           0.2796      1.069      0.261      0.794      -1.816       2.375\n",
       "intercept     -1.9459      1.069     -1.820      0.069      -4.041       0.149\n",
       "==============================================================================\n",
       "\"\"\""
      ]
     },
     "execution_count": 55,
     "metadata": {},
     "output_type": "execute_result"
    }
   ],
   "source": [
    "# Perform logistic regression\n",
    "df_ind = pd.get_dummies(df['home_ownership'])\n",
    "df_ind['intercept'] = 1\n",
    "df_ind['loan_status'] = df.loan_status\n",
    "\n",
    "logit = sm.Logit(df_ind['loan_status'], df_ind [['MORTGAGE', 'OTHER', 'OWN', 'RENT', 'intercept']] )\n",
    "\n",
    "result = logit.fit() \n",
    "\n",
    "result.summary()"
   ]
  },
  {
   "cell_type": "code",
   "execution_count": 56,
   "metadata": {},
   "outputs": [
    {
     "data": {
      "image/png": "[encoded data removed]",
      "text/plain": [
       "<matplotlib.figure.Figure at 0x118182c18>"
      ]
     },
     "metadata": {},
     "output_type": "display_data"
    }
   ],
   "source": [
    "# Count number of loans given in each month\n",
    "df.issue_month.value_counts().sort_index().plot(kind = 'bar')\n",
    "plt.title('Month a Loan is Issued')\n",
    "plt.xlabel('Month')\n",
    "plt.ylabel('Count')\n",
    "plt.xticks(rotation='45')\n",
    "fig_size = plt.rcParams[\"figure.figsize\"]\n",
    "fig_size[0] = 12\n",
    "fig_size[1] = 8\n",
    "plt.show()"
   ]
  },
  {
   "cell_type": "code",
   "execution_count": 57,
   "metadata": {},
   "outputs": [
    {
     "name": "stdout",
     "output_type": "stream",
     "text": [
      "Optimization terminated successfully.\n",
      "         Current function value: 0.424498\n",
      "         Iterations 6\n"
     ]
    },
    {
     "data": {
      "text/html": [
       "<table class=\"simpletable\">\n",
       "<caption>Logit Regression Results</caption>\n",
       "<tr>\n",
       "  <th>Dep. Variable:</th>    <td>loan_status</td>   <th>  No. Observations:  </th>  <td> 42535</td>  \n",
       "</tr>\n",
       "<tr>\n",
       "  <th>Model:</th>               <td>Logit</td>      <th>  Df Residuals:      </th>  <td> 42523</td>  \n",
       "</tr>\n",
       "<tr>\n",
       "  <th>Method:</th>               <td>MLE</td>       <th>  Df Model:          </th>  <td>    11</td>  \n",
       "</tr>\n",
       "<tr>\n",
       "  <th>Date:</th>          <td>Tue, 04 Sep 2018</td> <th>  Pseudo R-squ.:     </th> <td>0.0006478</td>\n",
       "</tr>\n",
       "<tr>\n",
       "  <th>Time:</th>              <td>19:59:26</td>     <th>  Log-Likelihood:    </th> <td> -18056.</td> \n",
       "</tr>\n",
       "<tr>\n",
       "  <th>converged:</th>           <td>True</td>       <th>  LL-Null:           </th> <td> -18068.</td> \n",
       "</tr>\n",
       "<tr>\n",
       "  <th> </th>                      <td> </td>        <th>  LLR p-value:       </th>  <td>0.01547</td> \n",
       "</tr>\n",
       "</table>\n",
       "<table class=\"simpletable\">\n",
       "<tr>\n",
       "      <td></td>         <th>coef</th>     <th>std err</th>      <th>z</th>      <th>P>|z|</th>  <th>[0.025</th>    <th>0.975]</th>  \n",
       "</tr>\n",
       "<tr>\n",
       "  <th>Aug</th>       <td>   -0.0086</td> <td>    0.070</td> <td>   -0.123</td> <td> 0.902</td> <td>   -0.146</td> <td>    0.129</td>\n",
       "</tr>\n",
       "<tr>\n",
       "  <th>Dec</th>       <td>    0.1426</td> <td>    0.065</td> <td>    2.183</td> <td> 0.029</td> <td>    0.015</td> <td>    0.271</td>\n",
       "</tr>\n",
       "<tr>\n",
       "  <th>Feb</th>       <td>   -0.0685</td> <td>    0.078</td> <td>   -0.884</td> <td> 0.377</td> <td>   -0.221</td> <td>    0.083</td>\n",
       "</tr>\n",
       "<tr>\n",
       "  <th>Jan</th>       <td>    0.0970</td> <td>    0.075</td> <td>    1.295</td> <td> 0.195</td> <td>   -0.050</td> <td>    0.244</td>\n",
       "</tr>\n",
       "<tr>\n",
       "  <th>Jul</th>       <td>    0.0266</td> <td>    0.070</td> <td>    0.381</td> <td> 0.703</td> <td>   -0.110</td> <td>    0.163</td>\n",
       "</tr>\n",
       "<tr>\n",
       "  <th>Jun</th>       <td>    0.1225</td> <td>    0.070</td> <td>    1.762</td> <td> 0.078</td> <td>   -0.014</td> <td>    0.259</td>\n",
       "</tr>\n",
       "<tr>\n",
       "  <th>Mar</th>       <td>    0.0033</td> <td>    0.074</td> <td>    0.045</td> <td> 0.964</td> <td>   -0.141</td> <td>    0.147</td>\n",
       "</tr>\n",
       "<tr>\n",
       "  <th>May</th>       <td>    0.1496</td> <td>    0.071</td> <td>    2.112</td> <td> 0.035</td> <td>    0.011</td> <td>    0.288</td>\n",
       "</tr>\n",
       "<tr>\n",
       "  <th>Nov</th>       <td>    0.1059</td> <td>    0.066</td> <td>    1.597</td> <td> 0.110</td> <td>   -0.024</td> <td>    0.236</td>\n",
       "</tr>\n",
       "<tr>\n",
       "  <th>Oct</th>       <td>    0.1205</td> <td>    0.067</td> <td>    1.799</td> <td> 0.072</td> <td>   -0.011</td> <td>    0.252</td>\n",
       "</tr>\n",
       "<tr>\n",
       "  <th>Sep</th>       <td>    0.1095</td> <td>    0.068</td> <td>    1.607</td> <td> 0.108</td> <td>   -0.024</td> <td>    0.243</td>\n",
       "</tr>\n",
       "<tr>\n",
       "  <th>intercept</th> <td>   -1.8002</td> <td>    0.052</td> <td>  -34.781</td> <td> 0.000</td> <td>   -1.902</td> <td>   -1.699</td>\n",
       "</tr>\n",
       "</table>"
      ],
      "text/plain": [
       "<class 'statsmodels.iolib.summary.Summary'>\n",
       "\"\"\"\n",
       "                           Logit Regression Results                           \n",
       "==============================================================================\n",
       "Dep. Variable:            loan_status   No. Observations:                42535\n",
       "Model:                          Logit   Df Residuals:                    42523\n",
       "Method:                           MLE   Df Model:                           11\n",
       "Date:                Tue, 04 Sep 2018   Pseudo R-squ.:               0.0006478\n",
       "Time:                        19:59:26   Log-Likelihood:                -18056.\n",
       "converged:                       True   LL-Null:                       -18068.\n",
       "                                        LLR p-value:                   0.01547\n",
       "==============================================================================\n",
       "                 coef    std err          z      P>|z|      [0.025      0.975]\n",
       "------------------------------------------------------------------------------\n",
       "Aug           -0.0086      0.070     -0.123      0.902      -0.146       0.129\n",
       "Dec            0.1426      0.065      2.183      0.029       0.015       0.271\n",
       "Feb           -0.0685      0.078     -0.884      0.377      -0.221       0.083\n",
       "Jan            0.0970      0.075      1.295      0.195      -0.050       0.244\n",
       "Jul            0.0266      0.070      0.381      0.703      -0.110       0.163\n",
       "Jun            0.1225      0.070      1.762      0.078      -0.014       0.259\n",
       "Mar            0.0033      0.074      0.045      0.964      -0.141       0.147\n",
       "May            0.1496      0.071      2.112      0.035       0.011       0.288\n",
       "Nov            0.1059      0.066      1.597      0.110      -0.024       0.236\n",
       "Oct            0.1205      0.067      1.799      0.072      -0.011       0.252\n",
       "Sep            0.1095      0.068      1.607      0.108      -0.024       0.243\n",
       "intercept     -1.8002      0.052    -34.781      0.000      -1.902      -1.699\n",
       "==============================================================================\n",
       "\"\"\""
      ]
     },
     "execution_count": 57,
     "metadata": {},
     "output_type": "execute_result"
    }
   ],
   "source": [
    "# Perform logistic regression\n",
    "df_ind = pd.get_dummies(df['issue_month'])\n",
    "df_ind['intercept'] = 1\n",
    "df_ind['loan_status'] = df.loan_status\n",
    "\n",
    "logit = sm.Logit(df_ind['loan_status'], df_ind [['Aug', 'Dec',  'Feb', 'Jan', 'Jul', 'Jun', 'Mar', 'May', \n",
    "                                                 'Nov', 'Oct', 'Sep','intercept']] )\n",
    "\n",
    "result = logit.fit() \n",
    "\n",
    "result.summary()"
   ]
  },
  {
   "cell_type": "code",
   "execution_count": 58,
   "metadata": {},
   "outputs": [
    {
     "data": {
      "image/png": "[encoded data removed]",
      "text/plain": [
       "<matplotlib.figure.Figure at 0x1183aa198>"
      ]
     },
     "metadata": {},
     "output_type": "display_data"
    }
   ],
   "source": [
    "# Create a graph to count the number of each loan purpose\n",
    "df.purpose.value_counts().sort_index().plot(kind = 'bar')\n",
    "plt.title('Purpose of Loan')\n",
    "plt.xlabel('Purpose')\n",
    "plt.ylabel('Count')\n",
    "plt.xticks(rotation='45')\n",
    "fig_size = plt.rcParams[\"figure.figsize\"]\n",
    "fig_size[0] = 12\n",
    "fig_size[1] = 8\n",
    "plt.show()"
   ]
  },
  {
   "cell_type": "code",
   "execution_count": 59,
   "metadata": {},
   "outputs": [
    {
     "name": "stdout",
     "output_type": "stream",
     "text": [
      "Optimization terminated successfully.\n",
      "         Current function value: 0.420097\n",
      "         Iterations 6\n"
     ]
    },
    {
     "data": {
      "text/html": [
       "<table class=\"simpletable\">\n",
       "<caption>Logit Regression Results</caption>\n",
       "<tr>\n",
       "  <th>Dep. Variable:</th>    <td>loan_status</td>   <th>  No. Observations:  </th>  <td> 42535</td>  \n",
       "</tr>\n",
       "<tr>\n",
       "  <th>Model:</th>               <td>Logit</td>      <th>  Df Residuals:      </th>  <td> 42521</td>  \n",
       "</tr>\n",
       "<tr>\n",
       "  <th>Method:</th>               <td>MLE</td>       <th>  Df Model:          </th>  <td>    13</td>  \n",
       "</tr>\n",
       "<tr>\n",
       "  <th>Date:</th>          <td>Tue, 04 Sep 2018</td> <th>  Pseudo R-squ.:     </th>  <td>0.01101</td> \n",
       "</tr>\n",
       "<tr>\n",
       "  <th>Time:</th>              <td>19:59:27</td>     <th>  Log-Likelihood:    </th> <td> -17869.</td> \n",
       "</tr>\n",
       "<tr>\n",
       "  <th>converged:</th>           <td>True</td>       <th>  LL-Null:           </th> <td> -18068.</td> \n",
       "</tr>\n",
       "<tr>\n",
       "  <th> </th>                      <td> </td>        <th>  LLR p-value:       </th> <td>6.579e-77</td>\n",
       "</tr>\n",
       "</table>\n",
       "<table class=\"simpletable\">\n",
       "<tr>\n",
       "           <td></td>             <th>coef</th>     <th>std err</th>      <th>z</th>      <th>P>|z|</th>  <th>[0.025</th>    <th>0.975]</th>  \n",
       "</tr>\n",
       "<tr>\n",
       "  <th>credit_card</th>        <td>    0.0566</td> <td>    0.091</td> <td>    0.621</td> <td> 0.535</td> <td>   -0.122</td> <td>    0.235</td>\n",
       "</tr>\n",
       "<tr>\n",
       "  <th>debt_consolidation</th> <td>    0.4318</td> <td>    0.083</td> <td>    5.214</td> <td> 0.000</td> <td>    0.269</td> <td>    0.594</td>\n",
       "</tr>\n",
       "<tr>\n",
       "  <th>educational</th>        <td>    0.7867</td> <td>    0.144</td> <td>    5.451</td> <td> 0.000</td> <td>    0.504</td> <td>    1.070</td>\n",
       "</tr>\n",
       "<tr>\n",
       "  <th>home_improvement</th>   <td>    0.2364</td> <td>    0.096</td> <td>    2.464</td> <td> 0.014</td> <td>    0.048</td> <td>    0.424</td>\n",
       "</tr>\n",
       "<tr>\n",
       "  <th>house</th>              <td>    0.4941</td> <td>    0.154</td> <td>    3.218</td> <td> 0.001</td> <td>    0.193</td> <td>    0.795</td>\n",
       "</tr>\n",
       "<tr>\n",
       "  <th>major_purchase</th>     <td>   -0.0116</td> <td>    0.105</td> <td>   -0.111</td> <td> 0.912</td> <td>   -0.218</td> <td>    0.194</td>\n",
       "</tr>\n",
       "<tr>\n",
       "  <th>medical</th>            <td>    0.5348</td> <td>    0.126</td> <td>    4.243</td> <td> 0.000</td> <td>    0.288</td> <td>    0.782</td>\n",
       "</tr>\n",
       "<tr>\n",
       "  <th>moving</th>             <td>    0.5357</td> <td>    0.133</td> <td>    4.022</td> <td> 0.000</td> <td>    0.275</td> <td>    0.797</td>\n",
       "</tr>\n",
       "<tr>\n",
       "  <th>other</th>              <td>    0.5440</td> <td>    0.090</td> <td>    6.058</td> <td> 0.000</td> <td>    0.368</td> <td>    0.720</td>\n",
       "</tr>\n",
       "<tr>\n",
       "  <th>renewable_energy</th>   <td>    0.6619</td> <td>    0.261</td> <td>    2.536</td> <td> 0.011</td> <td>    0.150</td> <td>    1.173</td>\n",
       "</tr>\n",
       "<tr>\n",
       "  <th>small_business</th>     <td>    1.1591</td> <td>    0.095</td> <td>   12.230</td> <td> 0.000</td> <td>    0.973</td> <td>    1.345</td>\n",
       "</tr>\n",
       "<tr>\n",
       "  <th>vacation</th>           <td>    0.3661</td> <td>    0.162</td> <td>    2.255</td> <td> 0.024</td> <td>    0.048</td> <td>    0.684</td>\n",
       "</tr>\n",
       "<tr>\n",
       "  <th>wedding</th>            <td>    0.0150</td> <td>    0.129</td> <td>    0.116</td> <td> 0.908</td> <td>   -0.239</td> <td>    0.269</td>\n",
       "</tr>\n",
       "<tr>\n",
       "  <th>intercept</th>          <td>   -2.1205</td> <td>    0.080</td> <td>  -26.355</td> <td> 0.000</td> <td>   -2.278</td> <td>   -1.963</td>\n",
       "</tr>\n",
       "</table>"
      ],
      "text/plain": [
       "<class 'statsmodels.iolib.summary.Summary'>\n",
       "\"\"\"\n",
       "                           Logit Regression Results                           \n",
       "==============================================================================\n",
       "Dep. Variable:            loan_status   No. Observations:                42535\n",
       "Model:                          Logit   Df Residuals:                    42521\n",
       "Method:                           MLE   Df Model:                           13\n",
       "Date:                Tue, 04 Sep 2018   Pseudo R-squ.:                 0.01101\n",
       "Time:                        19:59:27   Log-Likelihood:                -17869.\n",
       "converged:                       True   LL-Null:                       -18068.\n",
       "                                        LLR p-value:                 6.579e-77\n",
       "======================================================================================\n",
       "                         coef    std err          z      P>|z|      [0.025      0.975]\n",
       "--------------------------------------------------------------------------------------\n",
       "credit_card            0.0566      0.091      0.621      0.535      -0.122       0.235\n",
       "debt_consolidation     0.4318      0.083      5.214      0.000       0.269       0.594\n",
       "educational            0.7867      0.144      5.451      0.000       0.504       1.070\n",
       "home_improvement       0.2364      0.096      2.464      0.014       0.048       0.424\n",
       "house                  0.4941      0.154      3.218      0.001       0.193       0.795\n",
       "major_purchase        -0.0116      0.105     -0.111      0.912      -0.218       0.194\n",
       "medical                0.5348      0.126      4.243      0.000       0.288       0.782\n",
       "moving                 0.5357      0.133      4.022      0.000       0.275       0.797\n",
       "other                  0.5440      0.090      6.058      0.000       0.368       0.720\n",
       "renewable_energy       0.6619      0.261      2.536      0.011       0.150       1.173\n",
       "small_business         1.1591      0.095     12.230      0.000       0.973       1.345\n",
       "vacation               0.3661      0.162      2.255      0.024       0.048       0.684\n",
       "wedding                0.0150      0.129      0.116      0.908      -0.239       0.269\n",
       "intercept             -2.1205      0.080    -26.355      0.000      -2.278      -1.963\n",
       "======================================================================================\n",
       "\"\"\""
      ]
     },
     "execution_count": 59,
     "metadata": {},
     "output_type": "execute_result"
    }
   ],
   "source": [
    "# Perform logistic regression\n",
    "df_ind = pd.get_dummies(df['purpose'])\n",
    "df_ind['intercept'] = 1\n",
    "df_ind['loan_status'] = df['loan_status'] \n",
    "\n",
    "df_ind= df_ind.fillna(0) \n",
    "\n",
    "logit = sm.Logit(df_ind['loan_status'], df_ind [['credit_card', 'debt_consolidation',  'educational', \n",
    "                                                  'home_improvement',  'house',  'major_purchase',  'medical', \n",
    "                                                  'moving',  'other',  'renewable_energy', 'small_business', 'vacation',\n",
    "                                                 'wedding', 'intercept']] )\n",
    "\n",
    "result = logit.fit() \n",
    "\n",
    "result.summary()"
   ]
  },
  {
   "cell_type": "code",
   "execution_count": 60,
   "metadata": {},
   "outputs": [
    {
     "data": {
      "image/png": "[encoded data removed]",
      "text/plain": [
       "<matplotlib.figure.Figure at 0x118e08860>"
      ]
     },
     "metadata": {},
     "output_type": "display_data"
    }
   ],
   "source": [
    "# Create a graph to visualize the distribution of loans per state\n",
    "df.addr_state.value_counts().plot(kind = 'bar')\n",
    "plt.title('Borrower State of Residence')\n",
    "plt.xlabel('State')\n",
    "plt.ylabel('Count')\n",
    "fig_size = plt.rcParams[\"figure.figsize\"]\n",
    "fig_size[0] = 12\n",
    "fig_size[1] = 8\n",
    "plt.show()"
   ]
  },
  {
   "cell_type": "code",
   "execution_count": 61,
   "metadata": {},
   "outputs": [
    {
     "data": {
      "text/plain": [
       "<matplotlib.text.Text at 0x117e9eda0>"
      ]
     },
     "execution_count": 61,
     "metadata": {},
     "output_type": "execute_result"
    },
    {
     "data": {
      "image/png": "[encoded data removed]",
      "text/plain": [
       "<matplotlib.figure.Figure at 0x11aeaa4a8>"
      ]
     },
     "metadata": {},
     "output_type": "display_data"
    }
   ],
   "source": [
    "# Create a graph for the proportion of loans that default in each state\n",
    "df.groupby(['addr_state'])[['loan_status']].mean().plot(kind='bar').set_ylabel('Count')"
   ]
  },
  {
   "cell_type": "code",
   "execution_count": 62,
   "metadata": {},
   "outputs": [
    {
     "name": "stdout",
     "output_type": "stream",
     "text": [
      "Optimization terminated successfully.\n",
      "         Current function value: 0.422669\n",
      "         Iterations 17\n"
     ]
    },
    {
     "data": {
      "text/html": [
       "<table class=\"simpletable\">\n",
       "<caption>Logit Regression Results</caption>\n",
       "<tr>\n",
       "  <th>Dep. Variable:</th>    <td>loan_status</td>   <th>  No. Observations:  </th>  <td> 42535</td>  \n",
       "</tr>\n",
       "<tr>\n",
       "  <th>Model:</th>               <td>Logit</td>      <th>  Df Residuals:      </th>  <td> 42485</td>  \n",
       "</tr>\n",
       "<tr>\n",
       "  <th>Method:</th>               <td>MLE</td>       <th>  Df Model:          </th>  <td>    49</td>  \n",
       "</tr>\n",
       "<tr>\n",
       "  <th>Date:</th>          <td>Tue, 04 Sep 2018</td> <th>  Pseudo R-squ.:     </th> <td>0.004953</td> \n",
       "</tr>\n",
       "<tr>\n",
       "  <th>Time:</th>              <td>19:59:32</td>     <th>  Log-Likelihood:    </th> <td> -17978.</td> \n",
       "</tr>\n",
       "<tr>\n",
       "  <th>converged:</th>           <td>True</td>       <th>  LL-Null:           </th> <td> -18068.</td> \n",
       "</tr>\n",
       "<tr>\n",
       "  <th> </th>                      <td> </td>        <th>  LLR p-value:       </th> <td>1.070e-16</td>\n",
       "</tr>\n",
       "</table>\n",
       "<table class=\"simpletable\">\n",
       "<tr>\n",
       "      <td></td>         <th>coef</th>     <th>std err</th>      <th>z</th>      <th>P>|z|</th>  <th>[0.025</th>    <th>0.975]</th>  \n",
       "</tr>\n",
       "<tr>\n",
       "  <th>AL</th>        <td>   -0.5170</td> <td>    0.303</td> <td>   -1.706</td> <td> 0.088</td> <td>   -1.111</td> <td>    0.077</td>\n",
       "</tr>\n",
       "<tr>\n",
       "  <th>AR</th>        <td>   -0.4977</td> <td>    0.327</td> <td>   -1.521</td> <td> 0.128</td> <td>   -1.139</td> <td>    0.144</td>\n",
       "</tr>\n",
       "<tr>\n",
       "  <th>AZ</th>        <td>   -0.3083</td> <td>    0.286</td> <td>   -1.079</td> <td> 0.280</td> <td>   -0.868</td> <td>    0.251</td>\n",
       "</tr>\n",
       "<tr>\n",
       "  <th>CA</th>        <td>   -0.2145</td> <td>    0.273</td> <td>   -0.787</td> <td> 0.431</td> <td>   -0.749</td> <td>    0.320</td>\n",
       "</tr>\n",
       "<tr>\n",
       "  <th>CO</th>        <td>   -0.5043</td> <td>    0.289</td> <td>   -1.743</td> <td> 0.081</td> <td>   -1.071</td> <td>    0.063</td>\n",
       "</tr>\n",
       "<tr>\n",
       "  <th>CT</th>        <td>   -0.5009</td> <td>    0.290</td> <td>   -1.727</td> <td> 0.084</td> <td>   -1.070</td> <td>    0.068</td>\n",
       "</tr>\n",
       "<tr>\n",
       "  <th>DC</th>        <td>   -1.0986</td> <td>    0.370</td> <td>   -2.968</td> <td> 0.003</td> <td>   -1.824</td> <td>   -0.373</td>\n",
       "</tr>\n",
       "<tr>\n",
       "  <th>DE</th>        <td>   -0.6140</td> <td>    0.380</td> <td>   -1.617</td> <td> 0.106</td> <td>   -1.358</td> <td>    0.130</td>\n",
       "</tr>\n",
       "<tr>\n",
       "  <th>FL</th>        <td>   -0.0676</td> <td>    0.275</td> <td>   -0.246</td> <td> 0.806</td> <td>   -0.606</td> <td>    0.471</td>\n",
       "</tr>\n",
       "<tr>\n",
       "  <th>GA</th>        <td>   -0.2109</td> <td>    0.279</td> <td>   -0.755</td> <td> 0.450</td> <td>   -0.759</td> <td>    0.337</td>\n",
       "</tr>\n",
       "<tr>\n",
       "  <th>HI</th>        <td>   -0.2152</td> <td>    0.337</td> <td>   -0.639</td> <td> 0.523</td> <td>   -0.875</td> <td>    0.444</td>\n",
       "</tr>\n",
       "<tr>\n",
       "  <th>IA</th>        <td>   -0.2085</td> <td>    0.821</td> <td>   -0.254</td> <td> 0.799</td> <td>   -1.817</td> <td>    1.400</td>\n",
       "</tr>\n",
       "<tr>\n",
       "  <th>ID</th>        <td>   -0.6785</td> <td>    1.095</td> <td>   -0.620</td> <td> 0.535</td> <td>   -2.824</td> <td>    1.467</td>\n",
       "</tr>\n",
       "<tr>\n",
       "  <th>IL</th>        <td>   -0.4148</td> <td>    0.280</td> <td>   -1.482</td> <td> 0.138</td> <td>   -0.963</td> <td>    0.134</td>\n",
       "</tr>\n",
       "<tr>\n",
       "  <th>IN</th>        <td>    0.8619</td> <td>    0.547</td> <td>    1.575</td> <td> 0.115</td> <td>   -0.211</td> <td>    1.935</td>\n",
       "</tr>\n",
       "<tr>\n",
       "  <th>KS</th>        <td>   -0.5839</td> <td>    0.324</td> <td>   -1.803</td> <td> 0.071</td> <td>   -1.219</td> <td>    0.051</td>\n",
       "</tr>\n",
       "<tr>\n",
       "  <th>KY</th>        <td>   -0.3088</td> <td>    0.308</td> <td>   -1.003</td> <td> 0.316</td> <td>   -0.912</td> <td>    0.295</td>\n",
       "</tr>\n",
       "<tr>\n",
       "  <th>LA</th>        <td>   -0.5376</td> <td>    0.305</td> <td>   -1.762</td> <td> 0.078</td> <td>   -1.135</td> <td>    0.060</td>\n",
       "</tr>\n",
       "<tr>\n",
       "  <th>MA</th>        <td>   -0.5120</td> <td>    0.282</td> <td>   -1.816</td> <td> 0.069</td> <td>   -1.065</td> <td>    0.041</td>\n",
       "</tr>\n",
       "<tr>\n",
       "  <th>MD</th>        <td>   -0.2182</td> <td>    0.282</td> <td>   -0.773</td> <td> 0.440</td> <td>   -0.772</td> <td>    0.335</td>\n",
       "</tr>\n",
       "<tr>\n",
       "  <th>ME</th>        <td> -126.0556</td> <td> 2.74e+27</td> <td> -4.6e-26</td> <td> 1.000</td> <td>-5.38e+27</td> <td> 5.38e+27</td>\n",
       "</tr>\n",
       "<tr>\n",
       "  <th>MI</th>        <td>   -0.2987</td> <td>    0.288</td> <td>   -1.037</td> <td> 0.300</td> <td>   -0.863</td> <td>    0.266</td>\n",
       "</tr>\n",
       "<tr>\n",
       "  <th>MN</th>        <td>   -0.4053</td> <td>    0.293</td> <td>   -1.382</td> <td> 0.167</td> <td>   -0.980</td> <td>    0.169</td>\n",
       "</tr>\n",
       "<tr>\n",
       "  <th>MO</th>        <td>   -0.0952</td> <td>    0.286</td> <td>   -0.332</td> <td> 0.740</td> <td>   -0.657</td> <td>    0.466</td>\n",
       "</tr>\n",
       "<tr>\n",
       "  <th>MS</th>        <td>    0.1969</td> <td>    0.539</td> <td>    0.366</td> <td> 0.715</td> <td>   -0.859</td> <td>    1.252</td>\n",
       "</tr>\n",
       "<tr>\n",
       "  <th>MT</th>        <td>   -0.1353</td> <td>    0.381</td> <td>   -0.356</td> <td> 0.722</td> <td>   -0.881</td> <td>    0.610</td>\n",
       "</tr>\n",
       "<tr>\n",
       "  <th>NC</th>        <td>   -0.3196</td> <td>    0.288</td> <td>   -1.112</td> <td> 0.266</td> <td>   -0.883</td> <td>    0.244</td>\n",
       "</tr>\n",
       "<tr>\n",
       "  <th>NE</th>        <td>    1.5832</td> <td>    0.663</td> <td>    2.387</td> <td> 0.017</td> <td>    0.283</td> <td>    2.883</td>\n",
       "</tr>\n",
       "<tr>\n",
       "  <th>NH</th>        <td>   -0.3847</td> <td>    0.341</td> <td>   -1.127</td> <td> 0.260</td> <td>   -1.054</td> <td>    0.284</td>\n",
       "</tr>\n",
       "<tr>\n",
       "  <th>NJ</th>        <td>   -0.2956</td> <td>    0.278</td> <td>   -1.064</td> <td> 0.287</td> <td>   -0.840</td> <td>    0.249</td>\n",
       "</tr>\n",
       "<tr>\n",
       "  <th>NM</th>        <td>   -0.2501</td> <td>    0.331</td> <td>   -0.756</td> <td> 0.450</td> <td>   -0.898</td> <td>    0.398</td>\n",
       "</tr>\n",
       "<tr>\n",
       "  <th>NV</th>        <td>    0.2328</td> <td>    0.289</td> <td>    0.804</td> <td> 0.421</td> <td>   -0.335</td> <td>    0.800</td>\n",
       "</tr>\n",
       "<tr>\n",
       "  <th>NY</th>        <td>   -0.4373</td> <td>    0.275</td> <td>   -1.592</td> <td> 0.111</td> <td>   -0.975</td> <td>    0.101</td>\n",
       "</tr>\n",
       "<tr>\n",
       "  <th>OH</th>        <td>   -0.4919</td> <td>    0.283</td> <td>   -1.740</td> <td> 0.082</td> <td>   -1.046</td> <td>    0.062</td>\n",
       "</tr>\n",
       "<tr>\n",
       "  <th>OK</th>        <td>   -0.4244</td> <td>    0.316</td> <td>   -1.344</td> <td> 0.179</td> <td>   -1.043</td> <td>    0.194</td>\n",
       "</tr>\n",
       "<tr>\n",
       "  <th>OR</th>        <td>   -0.2240</td> <td>    0.298</td> <td>   -0.751</td> <td> 0.452</td> <td>   -0.808</td> <td>    0.360</td>\n",
       "</tr>\n",
       "<tr>\n",
       "  <th>PA</th>        <td>   -0.4456</td> <td>    0.280</td> <td>   -1.591</td> <td> 0.112</td> <td>   -0.995</td> <td>    0.103</td>\n",
       "</tr>\n",
       "<tr>\n",
       "  <th>RI</th>        <td>   -0.5018</td> <td>    0.340</td> <td>   -1.474</td> <td> 0.140</td> <td>   -1.169</td> <td>    0.165</td>\n",
       "</tr>\n",
       "<tr>\n",
       "  <th>SC</th>        <td>   -0.3885</td> <td>    0.300</td> <td>   -1.295</td> <td> 0.195</td> <td>   -0.976</td> <td>    0.199</td>\n",
       "</tr>\n",
       "<tr>\n",
       "  <th>SD</th>        <td>   -0.0231</td> <td>    0.411</td> <td>   -0.056</td> <td> 0.955</td> <td>   -0.828</td> <td>    0.782</td>\n",
       "</tr>\n",
       "<tr>\n",
       "  <th>TN</th>        <td>   -0.0654</td> <td>    0.528</td> <td>   -0.124</td> <td> 0.901</td> <td>   -1.100</td> <td>    0.969</td>\n",
       "</tr>\n",
       "<tr>\n",
       "  <th>TX</th>        <td>   -0.5060</td> <td>    0.276</td> <td>   -1.831</td> <td> 0.067</td> <td>   -1.048</td> <td>    0.036</td>\n",
       "</tr>\n",
       "<tr>\n",
       "  <th>UT</th>        <td>   -0.2172</td> <td>    0.315</td> <td>   -0.689</td> <td> 0.491</td> <td>   -0.835</td> <td>    0.401</td>\n",
       "</tr>\n",
       "<tr>\n",
       "  <th>VA</th>        <td>   -0.4960</td> <td>    0.282</td> <td>   -1.762</td> <td> 0.078</td> <td>   -1.048</td> <td>    0.056</td>\n",
       "</tr>\n",
       "<tr>\n",
       "  <th>VT</th>        <td>   -0.5652</td> <td>    0.486</td> <td>   -1.163</td> <td> 0.245</td> <td>   -1.518</td> <td>    0.387</td>\n",
       "</tr>\n",
       "<tr>\n",
       "  <th>WA</th>        <td>   -0.2496</td> <td>    0.286</td> <td>   -0.874</td> <td> 0.382</td> <td>   -0.810</td> <td>    0.310</td>\n",
       "</tr>\n",
       "<tr>\n",
       "  <th>WI</th>        <td>   -0.3398</td> <td>    0.298</td> <td>   -1.142</td> <td> 0.254</td> <td>   -0.923</td> <td>    0.244</td>\n",
       "</tr>\n",
       "<tr>\n",
       "  <th>WV</th>        <td>   -0.5635</td> <td>    0.351</td> <td>   -1.607</td> <td> 0.108</td> <td>   -1.251</td> <td>    0.124</td>\n",
       "</tr>\n",
       "<tr>\n",
       "  <th>WY</th>        <td>   -1.6317</td> <td>    0.579</td> <td>   -2.818</td> <td> 0.005</td> <td>   -2.767</td> <td>   -0.497</td>\n",
       "</tr>\n",
       "<tr>\n",
       "  <th>intercept</th> <td>   -1.4009</td> <td>    0.271</td> <td>   -5.174</td> <td> 0.000</td> <td>   -1.932</td> <td>   -0.870</td>\n",
       "</tr>\n",
       "</table>"
      ],
      "text/plain": [
       "<class 'statsmodels.iolib.summary.Summary'>\n",
       "\"\"\"\n",
       "                           Logit Regression Results                           \n",
       "==============================================================================\n",
       "Dep. Variable:            loan_status   No. Observations:                42535\n",
       "Model:                          Logit   Df Residuals:                    42485\n",
       "Method:                           MLE   Df Model:                           49\n",
       "Date:                Tue, 04 Sep 2018   Pseudo R-squ.:                0.004953\n",
       "Time:                        19:59:32   Log-Likelihood:                -17978.\n",
       "converged:                       True   LL-Null:                       -18068.\n",
       "                                        LLR p-value:                 1.070e-16\n",
       "==============================================================================\n",
       "                 coef    std err          z      P>|z|      [0.025      0.975]\n",
       "------------------------------------------------------------------------------\n",
       "AL            -0.5170      0.303     -1.706      0.088      -1.111       0.077\n",
       "AR            -0.4977      0.327     -1.521      0.128      -1.139       0.144\n",
       "AZ            -0.3083      0.286     -1.079      0.280      -0.868       0.251\n",
       "CA            -0.2145      0.273     -0.787      0.431      -0.749       0.320\n",
       "CO            -0.5043      0.289     -1.743      0.081      -1.071       0.063\n",
       "CT            -0.5009      0.290     -1.727      0.084      -1.070       0.068\n",
       "DC            -1.0986      0.370     -2.968      0.003      -1.824      -0.373\n",
       "DE            -0.6140      0.380     -1.617      0.106      -1.358       0.130\n",
       "FL            -0.0676      0.275     -0.246      0.806      -0.606       0.471\n",
       "GA            -0.2109      0.279     -0.755      0.450      -0.759       0.337\n",
       "HI            -0.2152      0.337     -0.639      0.523      -0.875       0.444\n",
       "IA            -0.2085      0.821     -0.254      0.799      -1.817       1.400\n",
       "ID            -0.6785      1.095     -0.620      0.535      -2.824       1.467\n",
       "IL            -0.4148      0.280     -1.482      0.138      -0.963       0.134\n",
       "IN             0.8619      0.547      1.575      0.115      -0.211       1.935\n",
       "KS            -0.5839      0.324     -1.803      0.071      -1.219       0.051\n",
       "KY            -0.3088      0.308     -1.003      0.316      -0.912       0.295\n",
       "LA            -0.5376      0.305     -1.762      0.078      -1.135       0.060\n",
       "MA            -0.5120      0.282     -1.816      0.069      -1.065       0.041\n",
       "MD            -0.2182      0.282     -0.773      0.440      -0.772       0.335\n",
       "ME          -126.0556   2.74e+27   -4.6e-26      1.000   -5.38e+27    5.38e+27\n",
       "MI            -0.2987      0.288     -1.037      0.300      -0.863       0.266\n",
       "MN            -0.4053      0.293     -1.382      0.167      -0.980       0.169\n",
       "MO            -0.0952      0.286     -0.332      0.740      -0.657       0.466\n",
       "MS             0.1969      0.539      0.366      0.715      -0.859       1.252\n",
       "MT            -0.1353      0.381     -0.356      0.722      -0.881       0.610\n",
       "NC            -0.3196      0.288     -1.112      0.266      -0.883       0.244\n",
       "NE             1.5832      0.663      2.387      0.017       0.283       2.883\n",
       "NH            -0.3847      0.341     -1.127      0.260      -1.054       0.284\n",
       "NJ            -0.2956      0.278     -1.064      0.287      -0.840       0.249\n",
       "NM            -0.2501      0.331     -0.756      0.450      -0.898       0.398\n",
       "NV             0.2328      0.289      0.804      0.421      -0.335       0.800\n",
       "NY            -0.4373      0.275     -1.592      0.111      -0.975       0.101\n",
       "OH            -0.4919      0.283     -1.740      0.082      -1.046       0.062\n",
       "OK            -0.4244      0.316     -1.344      0.179      -1.043       0.194\n",
       "OR            -0.2240      0.298     -0.751      0.452      -0.808       0.360\n",
       "PA            -0.4456      0.280     -1.591      0.112      -0.995       0.103\n",
       "RI            -0.5018      0.340     -1.474      0.140      -1.169       0.165\n",
       "SC            -0.3885      0.300     -1.295      0.195      -0.976       0.199\n",
       "SD            -0.0231      0.411     -0.056      0.955      -0.828       0.782\n",
       "TN            -0.0654      0.528     -0.124      0.901      -1.100       0.969\n",
       "TX            -0.5060      0.276     -1.831      0.067      -1.048       0.036\n",
       "UT            -0.2172      0.315     -0.689      0.491      -0.835       0.401\n",
       "VA            -0.4960      0.282     -1.762      0.078      -1.048       0.056\n",
       "VT            -0.5652      0.486     -1.163      0.245      -1.518       0.387\n",
       "WA            -0.2496      0.286     -0.874      0.382      -0.810       0.310\n",
       "WI            -0.3398      0.298     -1.142      0.254      -0.923       0.244\n",
       "WV            -0.5635      0.351     -1.607      0.108      -1.251       0.124\n",
       "WY            -1.6317      0.579     -2.818      0.005      -2.767      -0.497\n",
       "intercept     -1.4009      0.271     -5.174      0.000      -1.932      -0.870\n",
       "==============================================================================\n",
       "\"\"\""
      ]
     },
     "execution_count": 62,
     "metadata": {},
     "output_type": "execute_result"
    }
   ],
   "source": [
    "# Perform logistic Regression\n",
    "df_ind = pd.get_dummies(df['addr_state'])\n",
    "df_ind['intercept'] = 1\n",
    "df_ind['loan_status'] = df['loan_status'] \n",
    "\n",
    "df_ind= df_ind.fillna(0) \n",
    "\n",
    "logit = sm.Logit(df_ind['loan_status'], df_ind [['AL','AR','AZ','CA','CO','CT','DC','DE','FL','GA','HI','IA','ID',\n",
    "                                                 'IL','IN','KS','KY','LA','MA','MD','ME','MI','MN','MO','MS','MT','NC','NE',\n",
    "                                                 'NH','NJ','NM','NV','NY','OH','OK','OR','PA','RI','SC','SD','TN','TX',\n",
    "                                                 'UT','VA','VT','WA','WI','WV','WY','intercept']] )\n",
    "\n",
    "result = logit.fit() \n",
    "\n",
    "result.summary()"
   ]
  },
  {
   "cell_type": "code",
   "execution_count": 63,
   "metadata": {},
   "outputs": [
    {
     "data": {
      "text/html": [
       "<div>\n",
       "<style scoped>\n",
       "    .dataframe tbody tr th:only-of-type {\n",
       "        vertical-align: middle;\n",
       "    }\n",
       "\n",
       "    .dataframe tbody tr th {\n",
       "        vertical-align: top;\n",
       "    }\n",
       "\n",
       "    .dataframe thead th {\n",
       "        text-align: right;\n",
       "    }\n",
       "</style>\n",
       "<table border=\"1\" class=\"dataframe\">\n",
       "  <thead>\n",
       "    <tr style=\"text-align: right;\">\n",
       "      <th></th>\n",
       "      <th>mean</th>\n",
       "      <th>std</th>\n",
       "    </tr>\n",
       "    <tr>\n",
       "      <th>loan_status</th>\n",
       "      <th></th>\n",
       "      <th></th>\n",
       "    </tr>\n",
       "  </thead>\n",
       "  <tbody>\n",
       "    <tr>\n",
       "      <th>0</th>\n",
       "      <td>13.253252</td>\n",
       "      <td>6.731947</td>\n",
       "    </tr>\n",
       "    <tr>\n",
       "      <th>1</th>\n",
       "      <td>14.045559</td>\n",
       "      <td>6.655208</td>\n",
       "    </tr>\n",
       "  </tbody>\n",
       "</table>\n",
       "</div>"
      ],
      "text/plain": [
       "                  mean       std\n",
       "loan_status                     \n",
       "0            13.253252  6.731947\n",
       "1            14.045559  6.655208"
      ]
     },
     "execution_count": 63,
     "metadata": {},
     "output_type": "execute_result"
    },
    {
     "data": {
      "image/png": "[encoded data removed]",
      "text/plain": [
       "<matplotlib.figure.Figure at 0x11a8247b8>"
      ]
     },
     "metadata": {},
     "output_type": "display_data"
    }
   ],
   "source": [
    "# Create a box plot to visualize the difference between loan status\n",
    "df.boxplot(column=['dti'],by = ['loan_status']).set_yscale('log')\n",
    "pd.DataFrame(df.groupby( ['loan_status'])['dti'].describe().loc[:,['mean','std']])"
   ]
  },
  {
   "cell_type": "code",
   "execution_count": 64,
   "metadata": {},
   "outputs": [
    {
     "data": {
      "text/plain": [
       "Ttest_indResult(statistic=-8.710479487785241, pvalue=3.1327064696533274e-18)"
      ]
     },
     "execution_count": 64,
     "metadata": {},
     "output_type": "execute_result"
    }
   ],
   "source": [
    "# Perform t-test\n",
    "val1 = df.dti[df.loan_status == 0]\n",
    "val2 = df.dti[df.loan_status == 1]\n",
    "stats.ttest_ind(val1, val2)"
   ]
  },
  {
   "cell_type": "code",
   "execution_count": null,
   "metadata": {
    "collapsed": true
   },
   "outputs": [],
   "source": []
  }
 ],
 "metadata": {
  "kernelspec": {
   "display_name": "Python 3",
   "language": "python",
   "name": "python3"
  },
  "language_info": {
   "codemirror_mode": {
    "name": "ipython",
    "version": 3
   },
   "file_extension": ".py",
   "mimetype": "text/x-python",
   "name": "python",
   "nbconvert_exporter": "python",
   "pygments_lexer": "ipython3",
   "version": "3.6.1"
  }
 },
 "nbformat": 4,
 "nbformat_minor": 2
}
